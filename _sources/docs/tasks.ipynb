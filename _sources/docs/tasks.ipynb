{
 "cells": [
  {
   "cell_type": "markdown",
   "id": "4a0c0ca2",
   "metadata": {},
   "source": [
    "# Task Board\n",
    "\n",
    "This is a task board for topic presentations in class.\n",
    "When you pick a task, cross it out and add your name.\n",
    "\n",
    "\n",
    "1. Jun Yan ~~Variables and objects~~ \n",
    "1. Zefang Min ~~Numbers in computers~~\n",
    "1. Shike Xu ~~Google recruiting ad problem~~\n",
    "1. Sydney Hyde ~~Jupyter-book/MyST markdown guide~~\n",
    "1. Jintao Zhang ~~Errors and debugging~~\n",
    "1. Surya Eada ~~Profiling and timing~~\n",
    "1. Sreeram Anantharaman ~~Numpy (JVP p.33-77)~~\n",
    "1. Sreeram Anantharaman ~~Statistical distributions (Scipy)~~\n",
    "1. Jintao Zhang ~~Optimization (Scipy)~~\n",
    "1. Shike Xu ~~Python dictionary~~\n",
    "1. Zefang Min ~~Numpy advanced (JVP p.78-96)~~\n",
    "1. Surya Eada ~~Pandas: object; indexing; operation (JVP. p.97-118)~~\n",
    "1. Sreeram Anantharaman ~~Pandas: missing data; hierarchical indexing; (JVP p.119-140)~~\n",
    "1. Sydney Hyde ~~Pandas: dataset operations (JVP p. 141-178)~~\n",
    "1. Jintao Zhang ~~Measures of classification accuracy and functions in Python~~\n",
    "1. Sydney Hyde ~~Fraud detection with Python (GitHub of Trenton McKinney)~~\n",
    "1. Machine learning for credit card fraud detection (Le Borgne and Nontempi)\n",
    "1. Sreeram Anantharaman ~~Credit card fraud detection by Nikhil Adithyan on Medium.com~~\n",
    "1. Zefang Min ~~Machine learning: jumpstart (JVP: p. 331-381)~~\n",
    "1. Surya Eada ~~Naive Bayes classification~~\n",
    "1. Support vector machine\n",
    "1. Jintao Zhang ~~Decision trees and random forests~~\n",
    "1. TensorFlow\n",
    "1. A Kaggle competition walkthrough\n",
    "1. Zefang Min ~~Scope of variables~~\n",
    "1. Sydney Hyde ~~Web scraping~~\n",
    "1. Calling R from Python\n",
    "1. Creating modules and packages\n",
    "1. Jintao Zhang ~~Visualization with Matplotlib (JVP: p.217-274)~~\n",
    "1. Advanced Matplotlib: customization; 3d; maps (JVP: p.275-310)\n",
    "1. Statistical modeling with statmodels\n",
    "\n",
    "\n",
    "## Catching Up Topics\n",
    "\n",
    "1. [Python standard library](https://docs.python.org/3/library/)\n",
    "\n",
    "\n",
    "## Lessons Learned"
   ]
  }
 ],
 "metadata": {
  "jupytext": {
   "text_representation": {
    "extension": ".md",
    "format_name": "myst"
   }
  },
  "kernelspec": {
   "display_name": "Python 3",
   "language": "python",
   "name": "python3"
  },
  "language_info": {
   "codemirror_mode": {
    "name": "ipython",
    "version": 3
   },
   "file_extension": ".py",
   "mimetype": "text/x-python",
   "name": "python",
   "nbconvert_exporter": "python",
   "pygments_lexer": "ipython3",
   "version": "3.8.12"
  },
  "source_map": [
   10
  ]
 },
 "nbformat": 4,
 "nbformat_minor": 5
}