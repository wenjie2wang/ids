{
 "cells": [
  {
   "cell_type": "markdown",
   "id": "c99f0027",
   "metadata": {},
   "source": [
    "# Scipy\n",
    "\n",
    "SciPy is a collection of mathematical algorithms and convenience functions built on the NumPy extension of Python. It adds significant power to the interactive Python session by providing the user with high-level commands and classes for manipulating and visualizing data. With SciPy, an interactive Python session becomes a data-processing and system-prototyping environment. \n",
    "\n",
    "The additional benefit of basing SciPy on Python is that this also makes a powerful programming language available for use in developing sophisticated programs and specialized applications. Everything from parallel programming to web and data-base subroutines and classes have been made available to the Python programmer. All of this power is available in addition to the mathematical libraries in SciPy."
   ]
  },
  {
   "cell_type": "code",
   "execution_count": null,
   "id": "cd64f54e",
   "metadata": {},
   "outputs": [],
   "source": [
    "#Importing stats from scipy package\n",
    "\n",
    "from scipy import stats\n",
    "import numpy as np"
   ]
  },
  {
   "cell_type": "markdown",
   "id": "24948582",
   "metadata": {},
   "source": [
    "## Discrete Distributions"
   ]
  },
  {
   "cell_type": "markdown",
   "id": "4c848032",
   "metadata": {},
   "source": [
    "### Bernoulli"
   ]
  },
  {
   "cell_type": "code",
   "execution_count": null,
   "id": "b2d38b1a",
   "metadata": {},
   "outputs": [],
   "source": [
    "from scipy.stats import bernoulli"
   ]
  },
  {
   "cell_type": "code",
   "execution_count": null,
   "id": "62d8d6aa",
   "metadata": {},
   "outputs": [],
   "source": [
    "## Calculate the first four moments\n",
    "\n",
    "p = 0.6\n",
    "mean, var, skew, kurt = bernoulli.stats(p, moments='mvsk')\n",
    "print(mean, var, skew, kurt)"
   ]
  },
  {
   "cell_type": "code",
   "execution_count": null,
   "id": "9edbe228",
   "metadata": {},
   "outputs": [],
   "source": [
    "## Probability mass function\n",
    "\n",
    "x = np.arange(bernoulli.ppf(0.99, p))\n",
    "bernoulli.pmf(x, p)"
   ]
  },
  {
   "cell_type": "markdown",
   "id": "4a4eb789",
   "metadata": {},
   "source": [
    "Where bernoulli.ppf is similar to \"qbern()\" function and bernoulli.pmf is similar to \"dbern()\" function in r."
   ]
  },
  {
   "cell_type": "code",
   "execution_count": null,
   "id": "b8e7c7ae",
   "metadata": {},
   "outputs": [],
   "source": [
    "## Cummulative distribution function\n",
    "\n",
    "bernoulli.cdf(x, p)"
   ]
  },
  {
   "cell_type": "markdown",
   "id": "10508a70",
   "metadata": {},
   "source": [
    "Similar to \"pbern()\" function in r."
   ]
  },
  {
   "cell_type": "code",
   "execution_count": null,
   "id": "ef3ba668",
   "metadata": {},
   "outputs": [],
   "source": [
    "## Generate random numbers\n",
    "\n",
    "bernoulli.rvs(p, size=10)"
   ]
  },
  {
   "cell_type": "markdown",
   "id": "fcc65861",
   "metadata": {},
   "source": [
    "Similar to \"rbern()\" function in r."
   ]
  },
  {
   "cell_type": "markdown",
   "id": "7161d9fc",
   "metadata": {},
   "source": [
    "### Betabinom"
   ]
  },
  {
   "cell_type": "code",
   "execution_count": null,
   "id": "ccdbff86",
   "metadata": {},
   "outputs": [],
   "source": [
    "from scipy.stats import betabinom"
   ]
  },
  {
   "cell_type": "code",
   "execution_count": null,
   "id": "e78bb36e",
   "metadata": {},
   "outputs": [],
   "source": [
    "## Calculate the first four moments\n",
    "\n",
    "n, a, b = 7, 1.7, 0.42\n",
    "mean, var, skew, kurt = betabinom.stats(n, a, b, moments='mvsk')\n",
    "print(mean, var, skew, kurt)"
   ]
  },
  {
   "cell_type": "code",
   "execution_count": null,
   "id": "6bcc9319",
   "metadata": {},
   "outputs": [],
   "source": [
    "## Probability mass function\n",
    "\n",
    "x = np.arange(betabinom.ppf(0.99, n, a, b))\n",
    "betabinom.pmf(x, n, a, b)"
   ]
  },
  {
   "cell_type": "markdown",
   "id": "92daff43",
   "metadata": {},
   "source": [
    "Where betabinom.ppf is similar to \"qbb()\" function and betabinom.pmf is similar to \"dbb()\" function in r."
   ]
  },
  {
   "cell_type": "code",
   "execution_count": null,
   "id": "e2e71d39",
   "metadata": {},
   "outputs": [],
   "source": [
    "## Cummulative distribution function\n",
    "\n",
    "betabinom.cdf(x, n, a, b)"
   ]
  },
  {
   "cell_type": "markdown",
   "id": "57d3d945",
   "metadata": {},
   "source": [
    "Similar to \"pbb()\" function in r."
   ]
  },
  {
   "cell_type": "code",
   "execution_count": null,
   "id": "ba6becf5",
   "metadata": {},
   "outputs": [],
   "source": [
    "## Generate random numbers\n",
    "\n",
    "betabinom.rvs(n, a, b, size=10)"
   ]
  },
  {
   "cell_type": "markdown",
   "id": "e5fec450",
   "metadata": {},
   "source": [
    "Similar to \"rbb()\" function in r."
   ]
  },
  {
   "cell_type": "markdown",
   "id": "f6223808",
   "metadata": {},
   "source": [
    "### Binomial"
   ]
  },
  {
   "cell_type": "code",
   "execution_count": null,
   "id": "3c675cac",
   "metadata": {},
   "outputs": [],
   "source": [
    "from scipy.stats import binom"
   ]
  },
  {
   "cell_type": "code",
   "execution_count": null,
   "id": "99e931e0",
   "metadata": {},
   "outputs": [],
   "source": [
    "## Calculate the first four moments\n",
    "\n",
    "n, p = 7, 0.7\n",
    "mean, var, skew, kurt = binom.stats(n, p, moments='mvsk')\n",
    "print(mean, var, skew, kurt)"
   ]
  },
  {
   "cell_type": "code",
   "execution_count": null,
   "id": "4e5ef265",
   "metadata": {},
   "outputs": [],
   "source": [
    "## Probability mass function\n",
    "\n",
    "x = np.arange(binom.ppf(0.99, n, p))\n",
    "binom.pmf(x, n, p)"
   ]
  },
  {
   "cell_type": "markdown",
   "id": "9f748942",
   "metadata": {},
   "source": [
    "Where binom.ppf is similar to \"qbinom()\" function and binom.pmf is similar to \"dbinom()\" function in r."
   ]
  },
  {
   "cell_type": "code",
   "execution_count": null,
   "id": "c7eb00cb",
   "metadata": {},
   "outputs": [],
   "source": [
    "## Cummulative distribution function\n",
    "\n",
    "binom.cdf(x, n, p)"
   ]
  },
  {
   "cell_type": "markdown",
   "id": "3a8b6856",
   "metadata": {},
   "source": [
    "Similar to \"pbinom()\" function in r."
   ]
  },
  {
   "cell_type": "code",
   "execution_count": null,
   "id": "45ef9a51",
   "metadata": {},
   "outputs": [],
   "source": [
    "## Generate random numbers\n",
    "\n",
    "binom.rvs(n, p, size=10)"
   ]
  },
  {
   "cell_type": "markdown",
   "id": "ead6c48c",
   "metadata": {},
   "source": [
    "Similar to \"rbinom()\" function in r."
   ]
  },
  {
   "cell_type": "markdown",
   "id": "549b6c32",
   "metadata": {},
   "source": [
    "### Geometric"
   ]
  },
  {
   "cell_type": "code",
   "execution_count": null,
   "id": "81cc4797",
   "metadata": {},
   "outputs": [],
   "source": [
    "from scipy.stats import geom"
   ]
  },
  {
   "cell_type": "code",
   "execution_count": null,
   "id": "80ed54aa",
   "metadata": {},
   "outputs": [],
   "source": [
    "## Calculate the first four moments\n",
    "\n",
    "p = 0.7\n",
    "mean, var, skew, kurt = geom.stats(p, moments='mvsk')\n",
    "print(mean, var, skew, kurt)"
   ]
  },
  {
   "cell_type": "code",
   "execution_count": null,
   "id": "cea6f1f2",
   "metadata": {},
   "outputs": [],
   "source": [
    "## Probability mass function\n",
    "\n",
    "x = np.arange(geom.ppf(0.99, p))\n",
    "geom.pmf(x, p)"
   ]
  },
  {
   "cell_type": "markdown",
   "id": "0f32018e",
   "metadata": {},
   "source": [
    "Where geom.ppf is similar to \"qgeom()\" function and geom.pmf is similar to \"dgeom()\" function in r."
   ]
  },
  {
   "cell_type": "code",
   "execution_count": null,
   "id": "166941b3",
   "metadata": {},
   "outputs": [],
   "source": [
    "## Cummulative distribution function\n",
    "\n",
    "geom.cdf(x, p)"
   ]
  },
  {
   "cell_type": "markdown",
   "id": "2326541e",
   "metadata": {},
   "source": [
    "Similar to \"pgeom()\" function in r."
   ]
  },
  {
   "cell_type": "code",
   "execution_count": null,
   "id": "306587da",
   "metadata": {},
   "outputs": [],
   "source": [
    "## Generate random numbers\n",
    "\n",
    "geom.rvs(p, size=10)"
   ]
  },
  {
   "cell_type": "markdown",
   "id": "d528f4dc",
   "metadata": {},
   "source": [
    "Similar to \"rgeom()\" function in r."
   ]
  },
  {
   "cell_type": "markdown",
   "id": "3c6a649e",
   "metadata": {},
   "source": [
    "### Hypergeometric"
   ]
  },
  {
   "cell_type": "code",
   "execution_count": null,
   "id": "f46523af",
   "metadata": {},
   "outputs": [],
   "source": [
    "from scipy.stats import hypergeom"
   ]
  },
  {
   "cell_type": "code",
   "execution_count": null,
   "id": "65c2783c",
   "metadata": {},
   "outputs": [],
   "source": [
    "## Calculate the first four moments\n",
    "\n",
    "M, n, N = 18, 3, 12\n",
    "mean, var, skew, kurt = hypergeom.stats(M, n, N, moments='mvsk')\n",
    "print(mean, var, skew, kurt)"
   ]
  },
  {
   "cell_type": "code",
   "execution_count": null,
   "id": "84906f79",
   "metadata": {},
   "outputs": [],
   "source": [
    "## Probability mass function\n",
    "\n",
    "x =  np.arange(hypergeom.ppf(0.99,M,n,N))\n",
    "hypergeom.pmf(x,M, n, N)"
   ]
  },
  {
   "cell_type": "markdown",
   "id": "70d9ca10",
   "metadata": {},
   "source": [
    "Where hypergeom.ppf is similar to \"qhyper()\" function and hypergeom.pmf is similar to \"dhyper()\" function in r."
   ]
  },
  {
   "cell_type": "code",
   "execution_count": null,
   "id": "76825f31",
   "metadata": {},
   "outputs": [],
   "source": [
    "## Cummulative distribution function\n",
    "\n",
    "hypergeom.cdf(x, M, n, N)"
   ]
  },
  {
   "cell_type": "markdown",
   "id": "8049cdd7",
   "metadata": {},
   "source": [
    "Similar to \"phyper()\" function in r."
   ]
  },
  {
   "cell_type": "code",
   "execution_count": null,
   "id": "87ab7a89",
   "metadata": {},
   "outputs": [],
   "source": [
    "## Generate random numbers\n",
    "\n",
    "hypergeom.rvs(M, n, N, size=10)"
   ]
  },
  {
   "cell_type": "markdown",
   "id": "7793662a",
   "metadata": {},
   "source": [
    "Similar to \"rhyper()\" function in r."
   ]
  },
  {
   "cell_type": "markdown",
   "id": "1cbdf594",
   "metadata": {},
   "source": [
    "### Negative Binomial"
   ]
  },
  {
   "cell_type": "code",
   "execution_count": null,
   "id": "23b3110d",
   "metadata": {},
   "outputs": [],
   "source": [
    "from scipy.stats import nbinom"
   ]
  },
  {
   "cell_type": "code",
   "execution_count": null,
   "id": "1016c947",
   "metadata": {},
   "outputs": [],
   "source": [
    "## Calculate the first four moments\n",
    "\n",
    "n, p = 7, 0.7\n",
    "mean, var, skew, kurt = nbinom.stats(n, p, moments='mvsk')\n",
    "print(mean, var, skew, kurt)"
   ]
  },
  {
   "cell_type": "code",
   "execution_count": null,
   "id": "41488a0f",
   "metadata": {},
   "outputs": [],
   "source": [
    "## Probability mass function\n",
    "\n",
    "x = np.arange(nbinom.ppf(0.99, n, p))\n",
    "nbinom.pmf(x, n, p)"
   ]
  },
  {
   "cell_type": "markdown",
   "id": "ec0495a1",
   "metadata": {},
   "source": [
    "Where nbinom.ppf is similar to \"qnbinom()\" function and nbinom.pmf is similar to \"dnbinom()\" function in r."
   ]
  },
  {
   "cell_type": "code",
   "execution_count": null,
   "id": "206c191b",
   "metadata": {},
   "outputs": [],
   "source": [
    "## Cummulative distribution function\n",
    "\n",
    "nbinom.cdf(x, n, p)"
   ]
  },
  {
   "cell_type": "markdown",
   "id": "3a33b692",
   "metadata": {},
   "source": [
    "Similar to \"pnbinom()\" function in r."
   ]
  },
  {
   "cell_type": "code",
   "execution_count": null,
   "id": "7f783c37",
   "metadata": {},
   "outputs": [],
   "source": [
    "## Generate random numbers\n",
    "\n",
    "nbinom.rvs(n, p, size=10)"
   ]
  },
  {
   "cell_type": "markdown",
   "id": "017b7257",
   "metadata": {},
   "source": [
    "Similar to \"rnbinom()\" function in r."
   ]
  },
  {
   "cell_type": "markdown",
   "id": "e611b57c",
   "metadata": {},
   "source": [
    "### Poisson"
   ]
  },
  {
   "cell_type": "code",
   "execution_count": null,
   "id": "24a7151f",
   "metadata": {},
   "outputs": [],
   "source": [
    "from scipy.stats import poisson"
   ]
  },
  {
   "cell_type": "code",
   "execution_count": null,
   "id": "be61a7bf",
   "metadata": {},
   "outputs": [],
   "source": [
    "## Calculate the first four moments\n",
    "\n",
    "mu = 0.7\n",
    "mean, var, skew, kurt = poisson.stats(mu, moments='mvsk')\n",
    "print(mean, var, skew, kurt)"
   ]
  },
  {
   "cell_type": "code",
   "execution_count": null,
   "id": "9f189e49",
   "metadata": {},
   "outputs": [],
   "source": [
    "## Probability mass function\n",
    "\n",
    "x = np.arange(poisson.ppf(0.99, mu))\n",
    "poisson.pmf(x, mu)"
   ]
  },
  {
   "cell_type": "markdown",
   "id": "f774ee30",
   "metadata": {},
   "source": [
    "Where poisson.ppf is similar to \"qpois()\" function and poisson.pmf is similar to \"dpois()\" function in r."
   ]
  },
  {
   "cell_type": "code",
   "execution_count": null,
   "id": "574dbc55",
   "metadata": {},
   "outputs": [],
   "source": [
    "## Cummulative distribution function\n",
    "\n",
    "poisson.cdf(x, mu)"
   ]
  },
  {
   "cell_type": "markdown",
   "id": "a9144883",
   "metadata": {},
   "source": [
    "Similar to \"ppois()\" function in r."
   ]
  },
  {
   "cell_type": "code",
   "execution_count": null,
   "id": "99e47622",
   "metadata": {},
   "outputs": [],
   "source": [
    "## Generate random numbers\n",
    "\n",
    "poisson.rvs(mu, size=10)"
   ]
  },
  {
   "cell_type": "markdown",
   "id": "deb0c726",
   "metadata": {},
   "source": [
    "Similar to \"rpois()\" function in r."
   ]
  },
  {
   "cell_type": "markdown",
   "id": "621ffe2c",
   "metadata": {},
   "source": [
    "### Uniform"
   ]
  },
  {
   "cell_type": "code",
   "execution_count": null,
   "id": "3f06dd01",
   "metadata": {},
   "outputs": [],
   "source": [
    "from scipy.stats import randint"
   ]
  },
  {
   "cell_type": "code",
   "execution_count": null,
   "id": "61edebef",
   "metadata": {},
   "outputs": [],
   "source": [
    "## Calculate the first four moments\n",
    "\n",
    "low, high = 5, 25\n",
    "mean, var, skew, kurt = randint.stats(low, high, moments='mvsk')\n",
    "print(mean, var, skew, kurt)"
   ]
  },
  {
   "cell_type": "code",
   "execution_count": null,
   "id": "3d9ac7c9",
   "metadata": {},
   "outputs": [],
   "source": [
    "## Probability mass function\n",
    "\n",
    "x = np.arange(randint.ppf(0.99, low, high))\n",
    "randint.pmf(x, low, high)"
   ]
  },
  {
   "cell_type": "markdown",
   "id": "f0d888ff",
   "metadata": {},
   "source": [
    "Where randint.ppf is similar to \"qdunif()\" function and randint.pmf is similar to \"ddunif()\" function in r."
   ]
  },
  {
   "cell_type": "code",
   "execution_count": null,
   "id": "76377c98",
   "metadata": {},
   "outputs": [],
   "source": [
    "## Cummulative distribution function\n",
    "\n",
    "randint.cdf(x, low, high)"
   ]
  },
  {
   "cell_type": "markdown",
   "id": "47364c98",
   "metadata": {},
   "source": [
    "Similar to \"pdunif()\" function in r."
   ]
  },
  {
   "cell_type": "code",
   "execution_count": null,
   "id": "0a6a4fb9",
   "metadata": {},
   "outputs": [],
   "source": [
    "## Generate random numbers\n",
    "\n",
    "randint.rvs(low, high, size=10)"
   ]
  },
  {
   "cell_type": "markdown",
   "id": "c605bd23",
   "metadata": {},
   "source": [
    "Similar to \"rdunif()\" function in r."
   ]
  },
  {
   "cell_type": "markdown",
   "id": "477ccea4",
   "metadata": {},
   "source": [
    "Few more distributions that are also supported in this package is:\n",
    "- Boltzmann (truncated Planck) Distribution\n",
    "- Planck (discrete exponential) Distribution\n",
    "- Fisher’s Noncentral Hypergeometric Distribution\n",
    "- Wallenius’ Noncentral Hypergeometric Distribution\n",
    "- Negative Hypergeometric Distribution\n",
    "- Zipf (Zeta) Distribution\n",
    "- Zipfian Distribution\n",
    "- Logarithmic (Log-Series, Series) Distribution\n",
    "- Discrete Laplacian Distribution\n",
    "- Yule-Simon Distribution"
   ]
  },
  {
   "cell_type": "markdown",
   "id": "913c51ec",
   "metadata": {},
   "source": [
    "## Continuous Distributions"
   ]
  },
  {
   "cell_type": "markdown",
   "id": "baa14164",
   "metadata": {},
   "source": [
    "### Beta"
   ]
  },
  {
   "cell_type": "code",
   "execution_count": null,
   "id": "381b4650",
   "metadata": {},
   "outputs": [],
   "source": [
    "from scipy.stats import beta"
   ]
  },
  {
   "cell_type": "code",
   "execution_count": null,
   "id": "9db321bb",
   "metadata": {},
   "outputs": [],
   "source": [
    "## Calculate the first four moments\n",
    "\n",
    "a, b = 1.76, 0.35\n",
    "mean, var, skew, kurt = beta.stats(a, b, moments='mvsk')\n",
    "print(mean, var, skew, kurt)"
   ]
  },
  {
   "cell_type": "code",
   "execution_count": null,
   "id": "e2239092",
   "metadata": {},
   "outputs": [],
   "source": [
    "## Probability density function\n",
    "\n",
    "x = np.linspace(beta.ppf(0.99, a, b), 100)\n",
    "beta.pdf(x, a, b)"
   ]
  },
  {
   "cell_type": "markdown",
   "id": "65996034",
   "metadata": {},
   "source": [
    "Where beta.ppf is similar to \"qbeta()\" function and beta.pmf is similar to \"dbeta()\" function in r."
   ]
  },
  {
   "cell_type": "code",
   "execution_count": null,
   "id": "6c9312c1",
   "metadata": {},
   "outputs": [],
   "source": [
    "## Cummulative distribution function\n",
    "\n",
    "beta.ppf([0.001, 0.5, 0.999], a, b)"
   ]
  },
  {
   "cell_type": "markdown",
   "id": "0f16a3c3",
   "metadata": {},
   "source": [
    "Similar to \"pbeta()\" function in r."
   ]
  },
  {
   "cell_type": "code",
   "execution_count": null,
   "id": "bfa56076",
   "metadata": {},
   "outputs": [],
   "source": [
    "## Generate random numbers\n",
    "\n",
    "beta.rvs(a, b, size=10)"
   ]
  },
  {
   "cell_type": "markdown",
   "id": "5c4243db",
   "metadata": {},
   "source": [
    "Similar to \"rbeta()\" function in r."
   ]
  },
  {
   "cell_type": "markdown",
   "id": "2fea8d75",
   "metadata": {},
   "source": [
    "### Cauchy"
   ]
  },
  {
   "cell_type": "code",
   "execution_count": null,
   "id": "de76365d",
   "metadata": {},
   "outputs": [],
   "source": [
    "from scipy.stats import cauchy"
   ]
  },
  {
   "cell_type": "code",
   "execution_count": null,
   "id": "238cb4e1",
   "metadata": {},
   "outputs": [],
   "source": [
    "## Probability density function\n",
    "\n",
    "x = np.linspace(cauchy.ppf(0.99), 100)\n",
    "cauchy.pdf(x)"
   ]
  },
  {
   "cell_type": "markdown",
   "id": "9730c6bb",
   "metadata": {},
   "source": [
    "Where cauchy.ppf is similar to \"qcauchy()\" function and cauchy.pmf is similar to \"dcauchy()\" function in r."
   ]
  },
  {
   "cell_type": "code",
   "execution_count": null,
   "id": "7c082bd7",
   "metadata": {},
   "outputs": [],
   "source": [
    "## Cummulative distribution function\n",
    "\n",
    "cauchy.ppf([0.01, 0.5, 0.999])"
   ]
  },
  {
   "cell_type": "markdown",
   "id": "561acd29",
   "metadata": {},
   "source": [
    "Similar to \"pcauchy()\" function in r."
   ]
  },
  {
   "cell_type": "code",
   "execution_count": null,
   "id": "c1af8918",
   "metadata": {},
   "outputs": [],
   "source": [
    "## Generate random numbers\n",
    "\n",
    "cauchy.rvs(size=10)"
   ]
  },
  {
   "cell_type": "markdown",
   "id": "aa33c769",
   "metadata": {},
   "source": [
    "Similar to \"rcauchy()\" function in r."
   ]
  },
  {
   "cell_type": "markdown",
   "id": "019c9a8a",
   "metadata": {},
   "source": [
    "### Chi square"
   ]
  },
  {
   "cell_type": "code",
   "execution_count": null,
   "id": "48609f40",
   "metadata": {},
   "outputs": [],
   "source": [
    "from scipy.stats import chi2"
   ]
  },
  {
   "cell_type": "code",
   "execution_count": null,
   "id": "90546ec9",
   "metadata": {},
   "outputs": [],
   "source": [
    "## Calculate the first four moments\n",
    "\n",
    "df = 30\n",
    "mean, var, skew, kurt = chi2.stats(df, moments='mvsk')\n",
    "print(mean, var, skew, kurt)"
   ]
  },
  {
   "cell_type": "code",
   "execution_count": null,
   "id": "4affe7b7",
   "metadata": {},
   "outputs": [],
   "source": [
    "## Probability density function\n",
    "\n",
    "x = np.linspace(chi2.ppf(0.99, df), 100)\n",
    "chi2.pdf(x, df)"
   ]
  },
  {
   "cell_type": "markdown",
   "id": "798128aa",
   "metadata": {},
   "source": [
    "Where chi2.ppf is similar to \"qchisq()\" function and chi2.pmf is similar to \"dchisq()\" function in r."
   ]
  },
  {
   "cell_type": "code",
   "execution_count": null,
   "id": "9a8d4334",
   "metadata": {},
   "outputs": [],
   "source": [
    "## Cummulative distribution function\n",
    "\n",
    "chi2.ppf([0.001, 0.5, 0.999], df)"
   ]
  },
  {
   "cell_type": "markdown",
   "id": "cb1952fb",
   "metadata": {},
   "source": [
    "Similar to \"pchisq()\" function in r."
   ]
  },
  {
   "cell_type": "code",
   "execution_count": null,
   "id": "afedbce2",
   "metadata": {},
   "outputs": [],
   "source": [
    "## Generate random numbers\n",
    "\n",
    "chi2.rvs(df, size=10)"
   ]
  },
  {
   "cell_type": "markdown",
   "id": "966f4674",
   "metadata": {},
   "source": [
    "Similar to \"rchisq()\" function in r."
   ]
  },
  {
   "cell_type": "markdown",
   "id": "2b3da1a7",
   "metadata": {},
   "source": [
    "### Exponential"
   ]
  },
  {
   "cell_type": "code",
   "execution_count": null,
   "id": "76a94317",
   "metadata": {},
   "outputs": [],
   "source": [
    "from scipy.stats import expon"
   ]
  },
  {
   "cell_type": "code",
   "execution_count": null,
   "id": "30aa8830",
   "metadata": {},
   "outputs": [],
   "source": [
    "## Calculate the first four moments\n",
    "\n",
    "loc, scale = 16, 3\n",
    "mean, var, skew, kurt = expon.stats(loc, scale, moments='mvsk')\n",
    "print(mean, var, skew, kurt)"
   ]
  },
  {
   "cell_type": "code",
   "execution_count": null,
   "id": "f02c569c",
   "metadata": {},
   "outputs": [],
   "source": [
    "## Probability density function\n",
    "\n",
    "x = np.linspace(expon.ppf(0.99), 100)\n",
    "expon.pdf(x,loc,scale)"
   ]
  },
  {
   "cell_type": "markdown",
   "id": "6d26a876",
   "metadata": {},
   "source": [
    "Where expon.ppf is similar to \"qexp()\" function and expon.pmf is similar to \"dexp()\" function in r."
   ]
  },
  {
   "cell_type": "code",
   "execution_count": null,
   "id": "a01126e2",
   "metadata": {},
   "outputs": [],
   "source": [
    "## Cummulative distribution function\n",
    "\n",
    "expon.ppf([0.001, 0.5, 0.999],loc,scale)"
   ]
  },
  {
   "cell_type": "markdown",
   "id": "8717be92",
   "metadata": {},
   "source": [
    "Similar to \"pexp()\" function in r."
   ]
  },
  {
   "cell_type": "code",
   "execution_count": null,
   "id": "f4aef32c",
   "metadata": {},
   "outputs": [],
   "source": [
    "## Generate random numbers\n",
    "\n",
    "expon.rvs(loc,scale,size=10)"
   ]
  },
  {
   "cell_type": "markdown",
   "id": "918595b7",
   "metadata": {},
   "source": [
    "Similar to \"rexp()\" function in r."
   ]
  },
  {
   "cell_type": "markdown",
   "id": "bee492a7",
   "metadata": {},
   "source": [
    "### Gamma"
   ]
  },
  {
   "cell_type": "code",
   "execution_count": null,
   "id": "1a6c0e3a",
   "metadata": {},
   "outputs": [],
   "source": [
    "from scipy.stats import gamma"
   ]
  },
  {
   "cell_type": "code",
   "execution_count": null,
   "id": "d187163b",
   "metadata": {},
   "outputs": [],
   "source": [
    "## Calculate the first four moments\n",
    "\n",
    "a, loc, scale = 5,0, 2\n",
    "mean, var, skew, kurt = gamma.stats(a,loc, scale, moments='mvsk')\n",
    "print(mean, var, skew, kurt)"
   ]
  },
  {
   "cell_type": "code",
   "execution_count": null,
   "id": "b978cca8",
   "metadata": {},
   "outputs": [],
   "source": [
    "## Probability density function\n",
    "\n",
    "x = np.linspace(gamma.ppf(0.99, a), 100)\n",
    "gamma.pdf(x, a,loc,scale)"
   ]
  },
  {
   "cell_type": "markdown",
   "id": "612b1b32",
   "metadata": {},
   "source": [
    "Where gamma.ppf is similar to \"qgamma()\" function and gamma.pmf is similar to \"dgamma()\" function in r."
   ]
  },
  {
   "cell_type": "code",
   "execution_count": null,
   "id": "89cab4e4",
   "metadata": {},
   "outputs": [],
   "source": [
    "## Cummulative distribution function\n",
    "\n",
    "gamma.ppf([0.001, 0.5, 0.999], a,loc,scale)"
   ]
  },
  {
   "cell_type": "markdown",
   "id": "7cad44a0",
   "metadata": {},
   "source": [
    "Similar to \"pgamma()\" function in r."
   ]
  },
  {
   "cell_type": "code",
   "execution_count": null,
   "id": "c8d0d5c0",
   "metadata": {},
   "outputs": [],
   "source": [
    "## Generate random numbers\n",
    "\n",
    "gamma.rvs(scale,a, size=10)"
   ]
  },
  {
   "cell_type": "markdown",
   "id": "fa1ceb04",
   "metadata": {},
   "source": [
    "Similar to \"rgamma()\" function in r."
   ]
  },
  {
   "cell_type": "markdown",
   "id": "c4685064",
   "metadata": {},
   "source": [
    "### Laplace"
   ]
  },
  {
   "cell_type": "code",
   "execution_count": null,
   "id": "73220d14",
   "metadata": {},
   "outputs": [],
   "source": [
    "from scipy.stats import laplace"
   ]
  },
  {
   "cell_type": "code",
   "execution_count": null,
   "id": "48ec7b13",
   "metadata": {},
   "outputs": [],
   "source": [
    "## Calculate the first four moments\n",
    "\n",
    "loc, scale = 16, 3\n",
    "mean, var, skew, kurt = laplace.stats(loc, scale, moments='mvsk')\n",
    "print(mean, var, skew, kurt)"
   ]
  },
  {
   "cell_type": "code",
   "execution_count": null,
   "id": "7e028c41",
   "metadata": {},
   "outputs": [],
   "source": [
    "## Probability density function\n",
    "\n",
    "x = np.linspace(laplace.ppf(0.99), 100)\n",
    "laplace.pdf(x,loc,scale)"
   ]
  },
  {
   "cell_type": "markdown",
   "id": "7c062325",
   "metadata": {},
   "source": [
    "Where laplace.ppf is similar to \"qlaplace()\" function and laplace.pmf is similar to \"dlaplace()\" function in r."
   ]
  },
  {
   "cell_type": "code",
   "execution_count": null,
   "id": "975d645f",
   "metadata": {},
   "outputs": [],
   "source": [
    "## Cummulative distribution function\n",
    "\n",
    "laplace.ppf([0.001, 0.5, 0.999],loc,scale)"
   ]
  },
  {
   "cell_type": "markdown",
   "id": "1c191fd1",
   "metadata": {},
   "source": [
    "Similar to \"plaplace()\" function in r."
   ]
  },
  {
   "cell_type": "code",
   "execution_count": null,
   "id": "dddc3420",
   "metadata": {},
   "outputs": [],
   "source": [
    "## Generate random numbers\n",
    "\n",
    "laplace.rvs(loc,scale,size=10)"
   ]
  },
  {
   "cell_type": "markdown",
   "id": "fc02dcc6",
   "metadata": {},
   "source": [
    "Similar to \"rlaplace()\" function in r."
   ]
  },
  {
   "cell_type": "markdown",
   "id": "80be4d50",
   "metadata": {},
   "source": [
    "### Logistic"
   ]
  },
  {
   "cell_type": "code",
   "execution_count": null,
   "id": "c846b314",
   "metadata": {},
   "outputs": [],
   "source": [
    "from scipy.stats import logistic"
   ]
  },
  {
   "cell_type": "code",
   "execution_count": null,
   "id": "4a004a0b",
   "metadata": {},
   "outputs": [],
   "source": [
    "## Calculate the first four moments\n",
    "\n",
    "loc, scale = 16, 3\n",
    "mean, var, skew, kurt = logistic.stats(loc, scale, moments='mvsk')\n",
    "print(mean, var, skew, kurt)"
   ]
  },
  {
   "cell_type": "code",
   "execution_count": null,
   "id": "7ea01883",
   "metadata": {},
   "outputs": [],
   "source": [
    "## Probability density function\n",
    "\n",
    "x = np.linspace(logistic.ppf(0.99), 100)\n",
    "logistic.pdf(x,loc, scale)"
   ]
  },
  {
   "cell_type": "markdown",
   "id": "c24adb73",
   "metadata": {},
   "source": [
    "Where logistic.ppf is similar to \"qlogis()\" function and logistic.pmf is similar to \"dlogis()\" function in r."
   ]
  },
  {
   "cell_type": "code",
   "execution_count": null,
   "id": "09bb8c68",
   "metadata": {},
   "outputs": [],
   "source": [
    "## Cummulative distribution function\n",
    "\n",
    "logistic.ppf([0.001, 0.5, 0.999],loc, scale)"
   ]
  },
  {
   "cell_type": "markdown",
   "id": "d0d364b4",
   "metadata": {},
   "source": [
    "Similar to \"plogis()\" function in r."
   ]
  },
  {
   "cell_type": "code",
   "execution_count": null,
   "id": "1265d8f6",
   "metadata": {},
   "outputs": [],
   "source": [
    "## Generate random numbers\n",
    "\n",
    "logistic.rvs(loc, scale,size=10)"
   ]
  },
  {
   "cell_type": "markdown",
   "id": "ce81f961",
   "metadata": {},
   "source": [
    "Similar to \"rlogis()\" function in r."
   ]
  },
  {
   "cell_type": "markdown",
   "id": "622f5c92",
   "metadata": {},
   "source": [
    "### Noncentral Chi-square"
   ]
  },
  {
   "cell_type": "code",
   "execution_count": null,
   "id": "ffffffbd",
   "metadata": {},
   "outputs": [],
   "source": [
    "from scipy.stats import ncx2"
   ]
  },
  {
   "cell_type": "code",
   "execution_count": null,
   "id": "f53b1864",
   "metadata": {},
   "outputs": [],
   "source": [
    "## Calculate the first four moments\n",
    "\n",
    "df, nc = 30, 0.88\n",
    "mean, var, skew, kurt = ncx2.stats(df, nc, moments='mvsk')\n",
    "print(mean, var, skew, kurt)"
   ]
  },
  {
   "cell_type": "code",
   "execution_count": null,
   "id": "5c1d2c50",
   "metadata": {},
   "outputs": [],
   "source": [
    "## Probability density function\n",
    "\n",
    "x = np.linspace(ncx2.ppf(0.99, df, nc), 100)\n",
    "ncx2.pdf(x, df, nc)"
   ]
  },
  {
   "cell_type": "code",
   "execution_count": null,
   "id": "f6277865",
   "metadata": {},
   "outputs": [],
   "source": [
    "## Cummulative distribution function\n",
    "\n",
    "ncx2.ppf([0.001, 0.5, 0.999], df, nc)"
   ]
  },
  {
   "cell_type": "code",
   "execution_count": null,
   "id": "f24e8671",
   "metadata": {},
   "outputs": [],
   "source": [
    "## Generate random numbers\n",
    "\n",
    "ncx2.rvs(df, nc, size=10)"
   ]
  },
  {
   "cell_type": "markdown",
   "id": "0716d901",
   "metadata": {},
   "source": [
    "The corresponding r codes are same as the central chisquare."
   ]
  },
  {
   "cell_type": "markdown",
   "id": "d32b90d7",
   "metadata": {},
   "source": [
    "### Noncentral F"
   ]
  },
  {
   "cell_type": "code",
   "execution_count": null,
   "id": "baada4ea",
   "metadata": {},
   "outputs": [],
   "source": [
    "from scipy.stats import ncf"
   ]
  },
  {
   "cell_type": "code",
   "execution_count": null,
   "id": "05983c06",
   "metadata": {},
   "outputs": [],
   "source": [
    "## Calculate the first four moments\n",
    "\n",
    "dfn, dfd, nc = 18, 23, 0.342\n",
    "mean, var, skew, kurt = ncf.stats(dfn, dfd, nc, moments='mvsk')\n",
    "print(mean, var, skew, kurt)"
   ]
  },
  {
   "cell_type": "code",
   "execution_count": null,
   "id": "5316dd4c",
   "metadata": {},
   "outputs": [],
   "source": [
    "## Probability density function\n",
    "\n",
    "x = np.linspace(ncf.ppf(0.99, dfn, dfd, nc), 100)\n",
    "ncf.pdf(x, dfn, dfd, nc)"
   ]
  },
  {
   "cell_type": "code",
   "execution_count": null,
   "id": "1be8a531",
   "metadata": {},
   "outputs": [],
   "source": [
    "## Cummulative distribution function\n",
    "\n",
    "ncf.ppf([0.001, 0.5, 0.999], dfn, dfd, nc)"
   ]
  },
  {
   "cell_type": "code",
   "execution_count": null,
   "id": "05247f07",
   "metadata": {},
   "outputs": [],
   "source": [
    "## Generate random numbers\n",
    "\n",
    "ncf.rvs(dfn, dfd, nc, size=10)"
   ]
  },
  {
   "cell_type": "markdown",
   "id": "cfad71f4",
   "metadata": {},
   "source": [
    "### Noncentral t"
   ]
  },
  {
   "cell_type": "code",
   "execution_count": null,
   "id": "dc204602",
   "metadata": {},
   "outputs": [],
   "source": [
    "from scipy.stats import nct"
   ]
  },
  {
   "cell_type": "code",
   "execution_count": null,
   "id": "665f0914",
   "metadata": {},
   "outputs": [],
   "source": [
    "## Calculate the first four moments\n",
    "\n",
    "df, nc = 22, 0.13\n",
    "mean, var, skew, kurt = nct.stats(df, nc, moments='mvsk')\n",
    "print(mean, var, skew, kurt)"
   ]
  },
  {
   "cell_type": "code",
   "execution_count": null,
   "id": "a812e07f",
   "metadata": {},
   "outputs": [],
   "source": [
    "## Probability density function\n",
    "\n",
    "x = np.linspace(nct.ppf(0.99, df, nc), 100)\n",
    "nct.pdf(x, df, nc)"
   ]
  },
  {
   "cell_type": "code",
   "execution_count": null,
   "id": "fc5430bf",
   "metadata": {},
   "outputs": [],
   "source": [
    "## Cummulative distribution function\n",
    "\n",
    "nct.ppf([0.001, 0.5, 0.999], df, nc)"
   ]
  },
  {
   "cell_type": "code",
   "execution_count": null,
   "id": "b3122cac",
   "metadata": {},
   "outputs": [],
   "source": [
    "## Generate random numbers\n",
    "\n",
    "nct.rvs(df, nc, size=10)"
   ]
  },
  {
   "cell_type": "markdown",
   "id": "3a643509",
   "metadata": {},
   "source": [
    "### Normal"
   ]
  },
  {
   "cell_type": "code",
   "execution_count": null,
   "id": "ff26a877",
   "metadata": {},
   "outputs": [],
   "source": [
    "from scipy.stats import norm"
   ]
  },
  {
   "cell_type": "code",
   "execution_count": null,
   "id": "1619c169",
   "metadata": {},
   "outputs": [],
   "source": [
    "## Calculate the first four moments\n",
    "\n",
    "loc, scale = 10,2.4\n",
    "mean, var, skew, kurt = norm.stats(loc,scale, moments='mvsk')\n",
    "print(mean, var, skew, kurt)"
   ]
  },
  {
   "cell_type": "code",
   "execution_count": null,
   "id": "43caf53f",
   "metadata": {},
   "outputs": [],
   "source": [
    "## Probability density function\n",
    "\n",
    "x = np.linspace(norm.ppf(0.99), 100)\n",
    "norm.pdf(x,loc,scale)"
   ]
  },
  {
   "cell_type": "markdown",
   "id": "97ba99d2",
   "metadata": {},
   "source": [
    "Where norm.ppf is similar to \"qnorm()\" function and norm.pmf is similar to \"dnorm()\" function in r."
   ]
  },
  {
   "cell_type": "code",
   "execution_count": null,
   "id": "63c6640d",
   "metadata": {},
   "outputs": [],
   "source": [
    "## Cummulative distribution function\n",
    "\n",
    "norm.ppf([0.001, 0.5, 0.999],loc,scale)"
   ]
  },
  {
   "cell_type": "markdown",
   "id": "e00dba00",
   "metadata": {},
   "source": [
    "Similar to \"pnorm()\" function in r."
   ]
  },
  {
   "cell_type": "code",
   "execution_count": null,
   "id": "a8757622",
   "metadata": {},
   "outputs": [],
   "source": [
    "## Generate random numbers\n",
    "\n",
    "norm.rvs(size=10)"
   ]
  },
  {
   "cell_type": "markdown",
   "id": "5eb4be3d",
   "metadata": {},
   "source": [
    "Similar to \"rnorm()\" function in r."
   ]
  },
  {
   "cell_type": "markdown",
   "id": "89893a42",
   "metadata": {},
   "source": [
    "### Pareto"
   ]
  },
  {
   "cell_type": "code",
   "execution_count": null,
   "id": "3b16f903",
   "metadata": {},
   "outputs": [],
   "source": [
    "from scipy.stats import pareto"
   ]
  },
  {
   "cell_type": "code",
   "execution_count": null,
   "id": "b6e1e50a",
   "metadata": {},
   "outputs": [],
   "source": [
    "## Calculate the first four moments\n",
    "\n",
    "b = 5\n",
    "mean, var, skew, kurt = pareto.stats(b, moments='mvsk')\n",
    "print(mean, var, skew, kurt)"
   ]
  },
  {
   "cell_type": "code",
   "execution_count": null,
   "id": "99060c32",
   "metadata": {},
   "outputs": [],
   "source": [
    "## Probability density function\n",
    "\n",
    "x = np.linspace(pareto.ppf(0.99, b), 100)\n",
    "pareto.pdf(x, b)"
   ]
  },
  {
   "cell_type": "markdown",
   "id": "4ffd11e7",
   "metadata": {},
   "source": [
    "Where pareto.ppf is similar to \"qpareto()\" function and pareto.pmf is similar to \"dpareto()\" function in r."
   ]
  },
  {
   "cell_type": "code",
   "execution_count": null,
   "id": "954bdc7c",
   "metadata": {},
   "outputs": [],
   "source": [
    "## Cummulative distribution function\n",
    "\n",
    "pareto.ppf([0.001, 0.5, 0.999], b)"
   ]
  },
  {
   "cell_type": "markdown",
   "id": "e5cd7ab7",
   "metadata": {},
   "source": [
    "Similar to \"ppareto()\" function in r."
   ]
  },
  {
   "cell_type": "code",
   "execution_count": null,
   "id": "adc88528",
   "metadata": {},
   "outputs": [],
   "source": [
    "## Generate random numbers\n",
    "\n",
    "pareto.rvs(b, size=10)"
   ]
  },
  {
   "cell_type": "markdown",
   "id": "0fac9259",
   "metadata": {},
   "source": [
    "Similar to \"rpareto()\" function in r."
   ]
  },
  {
   "cell_type": "markdown",
   "id": "633d9a53",
   "metadata": {},
   "source": [
    "### Rayleigh"
   ]
  },
  {
   "cell_type": "code",
   "execution_count": null,
   "id": "89bc64e1",
   "metadata": {},
   "outputs": [],
   "source": [
    "from scipy.stats import rayleigh"
   ]
  },
  {
   "cell_type": "code",
   "execution_count": null,
   "id": "a1ca460f",
   "metadata": {},
   "outputs": [],
   "source": [
    "## Calculate the first four moments\n",
    "\n",
    "loc, scale = 16, 3\n",
    "mean, var, skew, kurt = rayleigh.stats(loc, scale, moments='mvsk')\n",
    "print(mean, var, skew, kurt)"
   ]
  },
  {
   "cell_type": "code",
   "execution_count": null,
   "id": "031e503c",
   "metadata": {},
   "outputs": [],
   "source": [
    "## Probability density function\n",
    "\n",
    "x = np.linspace(rayleigh.ppf(0.99), 100)\n",
    "rayleigh.pdf(x,loc, scale)"
   ]
  },
  {
   "cell_type": "markdown",
   "id": "8472f7d4",
   "metadata": {},
   "source": [
    "Where rayleigh.ppf is similar to \"qrayleigh()\" function and rayleigh.pmf is similar to \"drayleigh()\" function in r."
   ]
  },
  {
   "cell_type": "code",
   "execution_count": null,
   "id": "b9bd65ab",
   "metadata": {},
   "outputs": [],
   "source": [
    "## Cummulative distribution function\n",
    "\n",
    "rayleigh.ppf([0.001, 0.5, 0.999],loc, scale)"
   ]
  },
  {
   "cell_type": "markdown",
   "id": "298e067d",
   "metadata": {},
   "source": [
    "Similar to \"prayleigh()\" function in r."
   ]
  },
  {
   "cell_type": "code",
   "execution_count": null,
   "id": "48d1e686",
   "metadata": {},
   "outputs": [],
   "source": [
    "## Generate random numbers\n",
    "\n",
    "rayleigh.rvs(loc, scale,size=10)"
   ]
  },
  {
   "cell_type": "markdown",
   "id": "6e8f97e1",
   "metadata": {},
   "source": [
    "Similar to \"rrayleigh()\" function in r."
   ]
  },
  {
   "cell_type": "markdown",
   "id": "c527b54f",
   "metadata": {},
   "source": [
    "### Student t"
   ]
  },
  {
   "cell_type": "code",
   "execution_count": null,
   "id": "faf100e2",
   "metadata": {},
   "outputs": [],
   "source": [
    "from scipy.stats import t"
   ]
  },
  {
   "cell_type": "code",
   "execution_count": null,
   "id": "d649ae2f",
   "metadata": {},
   "outputs": [],
   "source": [
    "## Calculate the first four moments\n",
    "\n",
    "df,loc,scale = 5, 12, 3 \n",
    "mean, var, skew, kurt = t.stats(df,loc,scale, moments='mvsk')\n",
    "print(mean, var, skew, kurt)"
   ]
  },
  {
   "cell_type": "code",
   "execution_count": null,
   "id": "75e784b8",
   "metadata": {},
   "outputs": [],
   "source": [
    "## Probability density function\n",
    "\n",
    "x = np.linspace(t.ppf(0.99, df), 100)\n",
    "t.pdf(x, df,loc,scale)"
   ]
  },
  {
   "cell_type": "markdown",
   "id": "72b6919f",
   "metadata": {},
   "source": [
    "Where t.ppf is similar to \"qt()\" function and t.pmf is similar to \"dt()\" function in r."
   ]
  },
  {
   "cell_type": "code",
   "execution_count": null,
   "id": "57663ac3",
   "metadata": {},
   "outputs": [],
   "source": [
    "## Cummulative distribution function\n",
    "\n",
    "t.ppf([0.001, 0.5, 0.999], df,loc,scale)"
   ]
  },
  {
   "cell_type": "markdown",
   "id": "333d6f37",
   "metadata": {},
   "source": [
    "Similar to \"pt()\" function in r."
   ]
  },
  {
   "cell_type": "code",
   "execution_count": null,
   "id": "fb229905",
   "metadata": {},
   "outputs": [],
   "source": [
    "## Generate random numbers\n",
    "\n",
    "t.rvs(df, size=10)"
   ]
  },
  {
   "cell_type": "markdown",
   "id": "d5e6f9e7",
   "metadata": {},
   "source": [
    "Similar to \"rt()\" function in r."
   ]
  },
  {
   "cell_type": "markdown",
   "id": "4a0a1400",
   "metadata": {},
   "source": [
    "### Uniform"
   ]
  },
  {
   "cell_type": "code",
   "execution_count": null,
   "id": "ab384f27",
   "metadata": {},
   "outputs": [],
   "source": [
    "from scipy.stats import uniform"
   ]
  },
  {
   "cell_type": "code",
   "execution_count": null,
   "id": "ec95b7c8",
   "metadata": {},
   "outputs": [],
   "source": [
    "## Calculate the first four moments\n",
    "\n",
    "loc,scale=5,2\n",
    "mean, var, skew, kurt = uniform.stats(loc,scale,moments='mvsk')\n",
    "print(mean, var, skew, kurt)"
   ]
  },
  {
   "cell_type": "code",
   "execution_count": null,
   "id": "842f2cff",
   "metadata": {},
   "outputs": [],
   "source": [
    "## Probability density function\n",
    "\n",
    "x = np.linspace(uniform.ppf(0.99), 100)\n",
    "uniform.pdf(x,loc,scale)"
   ]
  },
  {
   "cell_type": "markdown",
   "id": "29c0bef1",
   "metadata": {},
   "source": [
    "Where uniform.ppf is similar to \"qunif()\" function and uniform.pmf is similar to \"dunif()\" function in r."
   ]
  },
  {
   "cell_type": "code",
   "execution_count": null,
   "id": "ca7bff06",
   "metadata": {},
   "outputs": [],
   "source": [
    "## Cummulative distribution function\n",
    "\n",
    "uniform.ppf([0.001, 0.5, 0.999])"
   ]
  },
  {
   "cell_type": "markdown",
   "id": "3923db18",
   "metadata": {},
   "source": [
    "Similar to \"punif()\" function in r."
   ]
  },
  {
   "cell_type": "code",
   "execution_count": null,
   "id": "7ca7d173",
   "metadata": {},
   "outputs": [],
   "source": [
    "## Generate random numbers\n",
    "\n",
    "uniform.rvs(size=10)"
   ]
  },
  {
   "cell_type": "markdown",
   "id": "b3b51f20",
   "metadata": {},
   "source": [
    "Similar to \"runif()\" function in r."
   ]
  },
  {
   "cell_type": "markdown",
   "id": "73c22b6c",
   "metadata": {},
   "source": [
    "Also there are several other continuous distributions under scipy.stats."
   ]
  }
 ],
 "metadata": {
  "jupytext": {
   "formats": "ipynb,md:myst",
   "text_representation": {
    "extension": ".md",
    "format_name": "myst",
    "format_version": 0.13,
    "jupytext_version": "1.10.3"
   }
  },
  "kernelspec": {
   "display_name": "Python 3 (ipykernel)",
   "language": "python",
   "name": "python3"
  },
  "source_map": [
   13,
   21,
   26,
   30,
   34,
   38,
   46,
   51,
   55,
   59,
   63,
   67,
   71,
   75,
   79,
   87,
   92,
   96,
   100,
   104,
   108,
   112,
   116,
   120,
   128,
   133,
   137,
   141,
   145,
   149,
   153,
   157,
   161,
   169,
   174,
   178,
   182,
   186,
   190,
   194,
   198,
   202,
   210,
   215,
   219,
   223,
   227,
   231,
   235,
   239,
   243,
   251,
   256,
   260,
   264,
   268,
   272,
   276,
   280,
   284,
   292,
   297,
   301,
   305,
   309,
   313,
   317,
   321,
   325,
   333,
   338,
   342,
   346,
   350,
   354,
   358,
   372,
   376,
   380,
   384,
   392,
   397,
   401,
   405,
   409,
   413,
   417,
   421,
   425,
   430,
   434,
   438,
   442,
   446,
   450,
   454,
   458,
   466,
   471,
   475,
   479,
   483,
   487,
   491,
   495,
   499,
   507,
   512,
   516,
   520,
   524,
   528,
   532,
   536,
   540,
   548,
   553,
   557,
   561,
   565,
   569,
   573,
   577,
   581,
   589,
   594,
   598,
   602,
   606,
   610,
   614,
   618,
   622,
   630,
   635,
   639,
   643,
   647,
   651,
   655,
   659,
   663,
   671,
   678,
   684,
   688,
   692,
   696,
   700,
   708,
   715,
   721,
   725,
   729,
   733,
   741,
   748,
   754,
   758,
   762,
   766,
   774,
   779,
   783,
   787,
   791,
   795,
   799,
   803,
   807,
   815,
   820,
   824,
   828,
   832,
   836,
   840,
   844,
   848,
   856,
   861,
   865,
   869,
   873,
   877,
   881,
   885,
   889,
   897,
   902,
   906,
   910,
   914,
   918,
   922,
   926,
   930,
   938,
   943,
   947,
   951,
   955,
   959,
   963
  ]
 },
 "nbformat": 4,
 "nbformat_minor": 5
}