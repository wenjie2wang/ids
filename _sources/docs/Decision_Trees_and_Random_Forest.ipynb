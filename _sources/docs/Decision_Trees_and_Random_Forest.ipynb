{
 "cells": [
  {
   "cell_type": "markdown",
   "id": "d75a4c8d",
   "metadata": {},
   "source": [
    "# Decision Trees and Random Forest\n",
    "\n",
    "## Decision Trees\n",
    "\n",
    "<img alt=\"Decision tree model.png\" src=\"https://upload.wikimedia.org/wikipedia/commons/f/ff/Decision_tree_model.png\" decoding=\"async\" width=\"573\" height=\"404\" data-file-width=\"573\" data-file-height=\"404\" title=\"Decision Trees Demo\" style=\"\">\n",
    "(Image by Wikipedia)\n",
    "\n",
    "Decision Trees (DTs) are a non-parametric supervised learning method used for classification and regression.  \n",
    "The goal is to create a model that predicts the value of a target variable by learning simple decision rules inferred from the data \n",
    "features.   \n",
    "A tree can be seen as a piecewise constant approximation.   \n",
    "The deeper the tree, the more complex the decision rules and the fitter the model.  \n",
    "\n",
    "\n",
    "### Advantages:\n",
    "- Simple to understand and to interpret. Trees can be visualised.  \n",
    "- Requires little data preparation.  \n",
    "- The cost of using the tree (i.e., predicting data) is logarithmic in the number of data points used to train the tree.    \n",
    "Total cost over the entire trees is $O(n_{features}n_{samples}^2log(n_{samples}))$    \n",
    "- Able to handle both numerical and categorical data (However, see disadvatange ...).  \n",
    "- Uses a white box model rather than a black box model such as neural network. (See figure above)     \n",
    "\n",
    "### Disadvantages:\n",
    "- Decision-tree learners can create over-complex trees that do not generalise the data well. This is called overfitting. Mechanisms\n",
    " such as pruning, setting the minimum number of samples required at a leaf node or setting the maximum depth of the tree are \n",
    " necessary to avoid this problem.  \n",
    "- Decision trees can be unstable because small variations in the data might result in a completely different tree being generated. \n",
    "This problem is mitigated by using decision trees within an ensemble.  \n",
    "- Predictions of decision trees are neither smooth nor continuous.  \n",
    "- Practical decision-tree learning algorithms cannot guarantee to return the globally optimal decision tree.   \n",
    "\n",
    "### Mathematical formulation\n",
    "\n",
    "- [General explanation](https://scikit-learn.org/stable/modules/tree.html#mathematical-formulation)  \n",
    "\n",
    "- [Criteria](https://scikit-learn.org/stable/modules/tree.html#mathematical-formulation)\n",
    "\n",
    "### Classification\n",
    "\n",
    "[DecisionTreeClassifier](https://scikit-learn.org/stable/modules/generated/sklearn.tree.DecisionTreeClassifier.html#sklearn.tree.DecisionTreeClassifier) is a class capable of performing multi-class classification on a dataset.  \n",
    "DecisionTreeClassifier takes two arrays as input : an array X, sparse or dense, of shape (n_samples, n_features) holding the \n",
    "training samples, and an array Y of integer values, shape (n_samples,), holding the class labels for the training samples.  \n",
    "\n",
    "\n",
    "sklearn.tree.DecisionTreeClassifier(*, criterion='gini', splitter='best', max_depth=None, min_samples_split=2, min_samples_leaf=1, min_weight_fraction_leaf=0.0, max_features=None, random_state=None, max_leaf_nodes=None, min_impurity_decrease=0.0, class_weight=None, ccp_alpha=0.0) [details](https://scikit-learn.org/stable/modules/generated/sklearn.tree.DecisionTreeClassifier.html#sklearn.tree.DecisionTreeClassifier)\n",
    "\n",
    "Splitter:\n",
    "\n",
    "The splitter is used to decide which feature and which threshold is used.\n",
    "\n",
    "Using **best**, the model if taking the feature with the highest importance  \n",
    "Using **random**, the model if taking the feature randomly but with the same distribution\n",
    "\n",
    " random_state’s value may be:\n",
    "\n",
    "**None (default)**\n",
    "Use the global random state instance from numpy.random.  \n",
    "Calling the function multiple times will reuse the same instance, and will produce different results.  \n",
    "\n",
    "**An integer**\n",
    "Use a new random number generator seeded by the given integer.  \n",
    "Using an int will produce the same results across different calls.  \n",
    "However, it may be worthwhile checking that your results are stable  \n",
    "across a number of different distinct random seeds. Popular integer random seeds are 0 and 42."
   ]
  },
  {
   "cell_type": "code",
   "execution_count": null,
   "id": "e9a80008",
   "metadata": {},
   "outputs": [],
   "source": [
    "%config InlineBackend.figure_formats = ['svg']\n",
    "from matplotlib import pyplot as plt\n",
    "from sklearn.datasets import load_iris\n",
    "from sklearn import tree\n",
    "\n",
    "# Prepare the data data\n",
    "iris = load_iris()\n",
    "X, y = iris.data, iris.target\n",
    "\n",
    "# Fit the classifier with default hyper-parameters\n",
    "clf = tree.DecisionTreeClassifier()\n",
    "clf = clf.fit(X, y)\n"
   ]
  },
  {
   "cell_type": "markdown",
   "id": "f230306c",
   "metadata": {},
   "source": [
    "The data set contains 3 classes of 50 instances each, where each class refers to a type of iris plant. One class is linearly \n",
    "separable from the other 2; the latter are NOT linearly separable from each other.  \n",
    "Attribute Information:\n",
    "\n",
    "1. sepal length in cm\n",
    "2. sepal width in cm\n",
    "3. petal length in cm\n",
    "4. petal width in cm\n",
    "5. class:\n",
    "- Iris Setosa\n",
    "- Iris Versicolour\n",
    "- Iris Virginica  \n",
    "\n",
    "sklearn.tree.plot_tree(decision_tree, *, max_depth=None, feature_names=None, class_names=None, label='all', filled=False, impurity=True, node_ids=False, proportion=False, rounded=False, precision=3, ax=None, fontsize=None) [details](https://scikit-learn.org/stable/modules/generated/sklearn.tree.plot_tree.html)"
   ]
  },
  {
   "cell_type": "code",
   "execution_count": null,
   "id": "1750f12b",
   "metadata": {},
   "outputs": [],
   "source": [
    "fig = plt.figure(figsize=(12,10))\n",
    "_ = tree.plot_tree(clf, max_depth=None,\n",
    "                   feature_names=iris.feature_names,  \n",
    "                   class_names=iris.target_names,\n",
    "                   filled=True)"
   ]
  },
  {
   "cell_type": "code",
   "execution_count": null,
   "id": "ba54557f",
   "metadata": {},
   "outputs": [],
   "source": [
    "text_representation = tree.export_text(clf)\n",
    "print(text_representation)"
   ]
  },
  {
   "cell_type": "markdown",
   "id": "33cb840a",
   "metadata": {},
   "source": [
    "### Tips on Decision Trees Usage\n",
    "- [Tips](https://scikit-learn.org/stable/modules/tree.html#mathematical-formulation)\n",
    "\n",
    "## Random Forests\n",
    "\n",
    "<img crossorigin=\"anonymous\" src=\"https://upload.wikimedia.org/wikipedia/commons/7/76/Random_forest_diagram_complete.png\" class=\"png\" alt=\"\">  \n",
    "(Image by Wikipedia)\n",
    "\n",
    "Random forests or random decision forests are an ensemble learning method for classification, regression and other tasks that \n",
    "operates by constructing a multitude of decision trees at training time.  \n",
    "\n",
    "### Advantages:\n",
    "- Random Forest is based on the bagging algorithm and uses Ensemble Learning technique. It creates as many trees on the subset of \n",
    "the data and combines the output of all the trees. In this way it reduces overfitting problem in decision trees and also reduces the \n",
    "variance and therefore improves the accuracy.\n",
    "\n",
    "- No feature scaling required: No feature scaling (standardization and normalization) required in case of Random Forest as it uses \n",
    "rule based approach instead of distance calculation.\n",
    "\n",
    "- Handles non-linear parameters efficiently: Non linear parameters don't affect the performance of a Random Forest unlike curve \n",
    "based algorithms. So, if there is high non-linearity between the independent variables, Random Forest may outperform as compared to \n",
    "other curve based algorithms.\n",
    "\n",
    "- Random Forest is usually robust to outliers and can handle them automatically.\n",
    "\n",
    "- Random Forest algorithm is very stable. Even if a new data point is introduced in the dataset, the overall algorithm is not \n",
    "affected much since the new data may impact one tree, but it is very hard for it to impact all the trees.  \n",
    "\n",
    "\n",
    "### Disadvantages: \n",
    "-  Complexity: Random Forest creates a lot of trees (unlike only one tree in case of decision tree) and combines their outputs. By\n",
    " default, it creates 100 trees in Python sklearn library. To do so, this algorithm requires much more computational power and \n",
    " resources. On the other hand decision tree is simple and does not require so much computational resources.  \n",
    "\n",
    "In random forests, each tree in the ensemble is built from a sample drawn with replacement (i.e., a bootstrap sample) from the \n",
    "training set.\n",
    "\n",
    "class sklearn.ensemble.RandomForestClassifier(n_estimators=100, *, criterion='gini', max_depth=None, min_samples_split=2, \n",
    "min_samples_leaf=1, min_weight_fraction_leaf=0.0, max_features='auto', max_leaf_nodes=None, min_impurity_decrease=0.0, \n",
    "bootstrap=True, oob_score=False, n_jobs=None, random_state=None, verbose=0, warm_start=False, class_weight=None, ccp_alpha=0.0, \n",
    "max_samples=None) [details](https://scikit-learn.org/stable/modules/generated/sklearn.ensemble.RandomForestClassifier.html#sklearn.\n",
    "ensemble.RandomForestClassifier)"
   ]
  },
  {
   "cell_type": "code",
   "execution_count": null,
   "id": "e6a37479",
   "metadata": {},
   "outputs": [],
   "source": [
    "# Import train_test_split function\n",
    "from sklearn.model_selection import train_test_split"
   ]
  },
  {
   "cell_type": "code",
   "execution_count": null,
   "id": "9abd8046",
   "metadata": {},
   "outputs": [],
   "source": [
    "# Creating a DataFrame of given iris dataset.\n",
    "import pandas as pd\n",
    "data=pd.DataFrame({\n",
    "    'sepal length':iris.data[:,0],\n",
    "    'sepal width':iris.data[:,1],\n",
    "    'petal length':iris.data[:,2],\n",
    "    'petal width':iris.data[:,3],\n",
    "    'species':iris.target\n",
    "})\n",
    "# data.head()\n",
    "\n",
    "# Split dataset into features and labels\n",
    "X=data[['petal length', 'petal width','sepal length']]  # Removed feature \"sepal length\"\n",
    "y=data['species']                                       \n",
    "# Split dataset into training set and test set\n",
    "X_train, X_test, y_train, y_test = train_test_split(X, y, test_size=0.70, random_state=5) # 70% training and 30% test"
   ]
  },
  {
   "cell_type": "code",
   "execution_count": null,
   "id": "63f2378d",
   "metadata": {},
   "outputs": [],
   "source": [
    "#Import Random Forest Model\n",
    "from sklearn.ensemble import RandomForestClassifier\n",
    "\n",
    "#Create a Gaussian Classifier\n",
    "clf=RandomForestClassifier(n_estimators=100)\n",
    "\n",
    "#Train the model using the training sets y_pred=clf.predict(X_test)\n",
    "clf.fit(X_train,y_train)\n",
    "\n",
    "y_pred=clf.predict(X_test)"
   ]
  },
  {
   "cell_type": "code",
   "execution_count": null,
   "id": "e9067713",
   "metadata": {},
   "outputs": [],
   "source": [
    "#Import scikit-learn metrics module for accuracy calculation\n",
    "from sklearn import metrics\n",
    "# Model Accuracy, how often is the classifier correct\n",
    "print(\"Accuracy:\",metrics.accuracy_score(y_test, y_pred))"
   ]
  },
  {
   "cell_type": "markdown",
   "id": "cf5ac612",
   "metadata": {},
   "source": [
    "### Extensions\n",
    "\n",
    "<img src=\"https://i.stack.imgur.com/Q18mk.png\" alt=\"enter image description here\">"
   ]
  }
 ],
 "metadata": {
  "jupytext": {
   "text_representation": {
    "extension": ".md",
    "format_name": "myst",
    "format_version": 0.13,
    "jupytext_version": "1.13.0"
   }
  },
  "kernelspec": {
   "display_name": "Python 3 (ipykernel)",
   "language": "python",
   "name": "python3"
  },
  "source_map": [
   12,
   80,
   94,
   112,
   121,
   124,
   170,
   176,
   196,
   210,
   215
  ]
 },
 "nbformat": 4,
 "nbformat_minor": 5
}