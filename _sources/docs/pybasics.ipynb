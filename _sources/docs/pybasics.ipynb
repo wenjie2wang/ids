{
 "cells": [
  {
   "cell_type": "markdown",
   "id": "4af12b80",
   "metadata": {},
   "source": [
    "<!-- (about_py)= -->\n",
    "\n",
    "# Python for R Users\n",
    "\n",
    "[Workshop by Mango\n",
    "Solutions](https://github.com/MangoTheCat/python-for-r-users-workshop)\n",
    "\n",
    "- Jupyter notebook keyboard shortcuts\n",
    "- Models, packages, and libraries\n",
    "- Getting help\n",
    "\n",
    "## Reading data and manipulations"
   ]
  },
  {
   "cell_type": "code",
   "execution_count": null,
   "id": "f48b26d4",
   "metadata": {},
   "outputs": [],
   "source": [
    "import pandas as pd\n",
    "pd.set_option(\"display.width\", 80)\n",
    "\n",
    "mtcars = pd.read_csv(\"../data/mtcars.csv\", index_col = 0)\n",
    "mtcars.head(5)\n",
    "mtcars[['mpg', 'wt']]"
   ]
  },
  {
   "cell_type": "markdown",
   "id": "3a0b45a5",
   "metadata": {},
   "source": [
    "## Writing a function\n",
    "\n",
    "Consider the Fibonacci Sequence\n",
    "$1, 1, 2, 3, 5, 8, 13, 21, 34, ...$.\n",
    "The next number is found by adding up the two numbers before it.\n",
    "We are going to use 3 ways to solve the problems.\n",
    "\n",
    "1. Recurisive solution;"
   ]
  },
  {
   "cell_type": "code",
   "execution_count": null,
   "id": "9408f0e2",
   "metadata": {},
   "outputs": [],
   "source": [
    "def fib_rs(n):\n",
    "    if (n==1 or n==2):\n",
    "        return 1\n",
    "    else:\n",
    "        return fib_rs(n - 1) + fib_rs(n - 2)\n",
    "\n",
    "%timeit fib_rs(10)"
   ]
  },
  {
   "cell_type": "markdown",
   "id": "52628a0d",
   "metadata": {},
   "source": [
    "1. Dynamic programming memoization;"
   ]
  },
  {
   "cell_type": "code",
   "execution_count": null,
   "id": "4044d33b",
   "metadata": {},
   "outputs": [],
   "source": [
    "def fib_dm_helper(n,mem):\n",
    "    if mem[n] is not None:\n",
    "        return mem[n]\n",
    "    elif (n==1 or n==2):\n",
    "        result = 1\n",
    "    else:\n",
    "        result = fib_dm_helper(n - 1, mem) + fib_dm_helper(n - 2, mem)\n",
    "    mem[n]=result\n",
    "    return result\n",
    "\n",
    "def fib_dm(n):\n",
    "    mem=[None]*(n+1)\n",
    "    return fib_dm_helper(n, mem)\n",
    "\n",
    "%timeit fib_dm(10)"
   ]
  },
  {
   "cell_type": "markdown",
   "id": "1eb92736",
   "metadata": {},
   "source": [
    "1. Dynamic programming bottom-up."
   ]
  },
  {
   "cell_type": "code",
   "execution_count": null,
   "id": "dd703156",
   "metadata": {},
   "outputs": [],
   "source": [
    "def fib_dbu(n):\n",
    "    mem=[None]*(n+1)\n",
    "    mem[1]=1;\n",
    "    mem[2]=1;\n",
    "    for i in range(3,n+1):\n",
    "        mem[i] = mem[i-1] + mem[i-2]\n",
    "    return mem[n]\n",
    "\t\n",
    "\n",
    "%timeit fib_dbu(500)"
   ]
  },
  {
   "cell_type": "markdown",
   "id": "1b68e3e4",
   "metadata": {},
   "source": [
    "## Variables versus Objects\n",
    "See materials and exercises of Dr. Eubank's [PDS site](https://www.practicaldatascience.org/html/index.html).\n",
    "\n",
    "\n",
    "## Visualization\n",
    "Change the default plot format to `svg` for high quality display."
   ]
  },
  {
   "cell_type": "code",
   "execution_count": null,
   "id": "06e620ce",
   "metadata": {},
   "outputs": [],
   "source": [
    "%config InlineBackend.figure_formats = ['svg']\n",
    "\n",
    "import seaborn as sns\n",
    "%matplotlib inline\n",
    "\n",
    "sns.set_theme(style=\"darkgrid\")\n",
    "df = sns.load_dataset(\"penguins\")\n",
    "fig = sns.displot(\n",
    "    df, x=\"flipper_length_mm\", col=\"species\", row=\"sex\",\n",
    "    binwidth=3, height=3, facet_kws=dict(margin_titles=True)\n",
    ")"
   ]
  },
  {
   "cell_type": "markdown",
   "id": "f65da7ab",
   "metadata": {},
   "source": [
    "Let's see some plots using the `mtcars` example."
   ]
  },
  {
   "cell_type": "code",
   "execution_count": null,
   "id": "869632d3",
   "metadata": {},
   "outputs": [],
   "source": [
    "sns.lmplot(x = \"mpg\", y = \"wt\", data = mtcars)\n",
    "sns.displot(mtcars, x = \"mpg\", col = \"gear\", binwidth = 3, height = 3)"
   ]
  },
  {
   "cell_type": "code",
   "execution_count": null,
   "id": "04a2c136",
   "metadata": {},
   "outputs": [],
   "source": [
    "sns.lmplot(x = \"mpg\", y = \"wt\", hue = \"gear\", data = mtcars)"
   ]
  },
  {
   "cell_type": "code",
   "execution_count": null,
   "id": "86258cb9",
   "metadata": {},
   "outputs": [],
   "source": [
    "sns.lmplot(x = \"mpg\", y = \"wt\", col = \"gear\", data = mtcars)"
   ]
  },
  {
   "cell_type": "markdown",
   "id": "c79deadc",
   "metadata": {},
   "source": [
    "## Numbers in Computer\n",
    "\n",
    "Pitfall one: Integer overflow\n",
    "\n",
    "We my encounter the Overflow problem when dealing with integers when using Numpy and Pandas in Python."
   ]
  },
  {
   "cell_type": "code",
   "execution_count": null,
   "id": "69a07734",
   "metadata": {},
   "outputs": [],
   "source": [
    "import numpy as np\n",
    "x = np.array(2**63 -1 , dtype='int')\n",
    "x\n",
    "# This should be the largest number numpy can display, with the default integer size being 64 bits in most computers.\n",
    "\n",
    "y = np.array(x + 1, dtype='int')\n",
    "y\n",
    "# Because of the overflow, when we add 1 to this number, it becomes negative!"
   ]
  },
  {
   "cell_type": "markdown",
   "id": "93b4c140",
   "metadata": {},
   "source": [
    "For vanilla Python, the overflow errors are checked and more digits are allocated when needed, at the cost of being slow."
   ]
  },
  {
   "cell_type": "code",
   "execution_count": null,
   "id": "857464ca",
   "metadata": {},
   "outputs": [],
   "source": [
    "2**63 * 1000 # this number is 1000 times largger than the prior number, but still displayed perfectly without any overflows"
   ]
  },
  {
   "cell_type": "markdown",
   "id": "267a8c68",
   "metadata": {},
   "source": [
    "Pitfall two: floating point numbers' impresicion\n",
    "\n",
    "Because our computers use binary to store information, some simple numbers in decimal are not represented and replaced by a rounded approximation."
   ]
  },
  {
   "cell_type": "code",
   "execution_count": null,
   "id": "3a8d9d72",
   "metadata": {},
   "outputs": [],
   "source": [
    "0.1 + 0.1 + 0.1 == 0.3\n",
    "\n",
    "0.3 - 0.2\n",
    "\n",
    "import decimal\n",
    "decimal.Decimal(0.1) # this is the true decimal value of the binary approximation stored for 0.1"
   ]
  },
  {
   "cell_type": "markdown",
   "id": "8a25c7f4",
   "metadata": {},
   "source": [
    "Pitfall three: trade-off between size and presicion\n",
    "\n",
    "To represent a floating points number, a 64-bit computer typically uses 1 bit to strore the sign, 52 bits to store the mantissa and 11 bits to store the exponent. Because the mantissa bits are limited, it can not represent a floating point that's both very big and very precise. Most computers can represent all integers up to 2^53, after that it starts skipping numbers."
   ]
  },
  {
   "cell_type": "code",
   "execution_count": null,
   "id": "0cdbd13a",
   "metadata": {},
   "outputs": [],
   "source": [
    "2.1**53 +1 == 2.1**53\n",
    "\n",
    "# Find a number larger than 2 to the 53rd"
   ]
  },
  {
   "cell_type": "code",
   "execution_count": null,
   "id": "675b3144",
   "metadata": {},
   "outputs": [],
   "source": [
    "x = 2.1**53\n",
    "for i in range(1000000):\n",
    "    x = x+1\n",
    "x == 2.1**53\n",
    "\n",
    "# we add 1 to x by 1000000 times, but it still equal to its initial value, 2.1**53, because this number is too big that computer can't handle it with precision like add 1."
   ]
  },
  {
   "cell_type": "markdown",
   "id": "42ccd32c",
   "metadata": {},
   "source": [
    "For floating points, we can find the smallest value we can get by calling machine epsilon. It is formally defined as the difference between 1 and the next largest floating point number."
   ]
  },
  {
   "cell_type": "code",
   "execution_count": null,
   "id": "39346518",
   "metadata": {},
   "outputs": [],
   "source": [
    "float_epsilon = np.finfo(float).eps\n",
    "print(float_epsilon)"
   ]
  },
  {
   "cell_type": "markdown",
   "id": "0cc61a58",
   "metadata": {},
   "source": [
    "## Example: Google recruiting problem\n",
    "Find the first 10-digit prime found in consecutive digits of $e$.\n",
    "\n",
    "- Get the list of digits of $e$\n",
    "- Write functions to achieve our goals(can be a loop, running over the list)\n",
    "- Try to make it more efficient!\n",
    "\n",
    "### Export $e$\n",
    "\n",
    "If you try to export $e$ using the format command in Python, you will\n",
    "not get the precise $e$ value due to the double type data's feature!"
   ]
  },
  {
   "cell_type": "code",
   "execution_count": null,
   "id": "948c6c36",
   "metadata": {},
   "outputs": [],
   "source": [
    "import math\n",
    "print(\"%0.10f\" % math.e)\n",
    "print(\"%0.20f\" % math.e)"
   ]
  },
  {
   "cell_type": "markdown",
   "id": "3620056c",
   "metadata": {},
   "source": [
    "The digits after 16 positions of $e$ are wrong, compare this to the\n",
    "$e$ value export by \"decimal\"."
   ]
  },
  {
   "cell_type": "code",
   "execution_count": null,
   "id": "f895a38e",
   "metadata": {},
   "outputs": [],
   "source": [
    "import operator # ?\n",
    "import decimal  # for what?\n",
    "\n",
    "## set the required digits\n",
    "decimal.getcontext().prec = 150\n",
    "e_decimal = decimal.Decimal(1).exp().to_eng_string()[2:]\n",
    "print(e_decimal)"
   ]
  },
  {
   "cell_type": "markdown",
   "id": "7610431e",
   "metadata": {},
   "source": [
    "Besides the \"decimal\" module, we have lazy ways to find $e$ from\n",
    "an existed list. For example, the website\n",
    "https://apod.nasa.gov/htmltest/gifcity/e.2mil provides a list of $e$."
   ]
  },
  {
   "cell_type": "code",
   "execution_count": null,
   "id": "6733ad4a",
   "metadata": {},
   "outputs": [],
   "source": [
    "import requests\n",
    "# get text from the website\n",
    "reply = requests.get('https://apod.nasa.gov/htmltest/gifcity/e.2mil').text\n",
    "\n",
    "# remove the space in the lines\n",
    "line_strip=[line.strip() for line in reply.split('\\n')]\n",
    "\n",
    "# connect all the digital lines\n",
    "e=''.join([LINE for LINE in line_strip if LINE and LINE[0].isdigit()])\n",
    "print(e[:20:])"
   ]
  },
  {
   "cell_type": "markdown",
   "id": "dda3e765",
   "metadata": {},
   "source": [
    "### Write functions to check whether a number is a prime\n",
    "Here the most basic and bruteforce way is used. Check all the factors\n",
    "less than $\\sqrt n+1$ for all the odd numbers $n$.\n",
    "\n",
    "We have many powerful algorithms to achieve this if we need to check\n",
    "for very large numbers. For this problem, this method is efficcient\n",
    "enough."
   ]
  },
  {
   "cell_type": "code",
   "execution_count": null,
   "id": "daaf8815",
   "metadata": {},
   "outputs": [],
   "source": [
    "%%time\n",
    "def is_prime(n):\n",
    "    if n% 2 == 0:\n",
    "        return False\n",
    "    for i in range(3, int(n**0.5)+1,2):\n",
    "        if n% i == 0:\n",
    "            return False\n",
    "    else:\n",
    "        return True\n",
    "    \n",
    "\n",
    "i = 0\n",
    "se = e.replace('.','')\n",
    "while True:\n",
    "    number = se[i:i+10]\n",
    "    if is_prime(int(number)):\n",
    "        print(number)\n",
    "        break\n",
    "    i+= 1"
   ]
  },
  {
   "cell_type": "markdown",
   "id": "8c80ca6a",
   "metadata": {},
   "source": [
    "## Error and Debugging\n",
    "Resource: Python Data Science Handbook\n",
    "\n",
    "Code development and data analysis always require a bit of trial and error, and IPython contains tools to streamline this process. \n",
    "\n",
    "### Error"
   ]
  },
  {
   "cell_type": "code",
   "execution_count": null,
   "id": "ae2e776e",
   "metadata": {},
   "outputs": [],
   "source": [
    "def func1(a, b):\n",
    "    return a / b\n",
    "\n",
    "def func2(x):\n",
    "    a = x\n",
    "    b = x + 1\n",
    "    return func1(a, b)"
   ]
  },
  {
   "cell_type": "code",
   "execution_count": null,
   "id": "3a0b52d6",
   "metadata": {},
   "outputs": [],
   "source": [
    "try:\n",
    "    func2(-1)\n",
    "except Exception as e:\n",
    "    print(e)"
   ]
  },
  {
   "cell_type": "markdown",
   "id": "ef3bfc52",
   "metadata": {},
   "source": [
    "Calling func2 results in an error, and reading the printed trace lets us see exactly what happened.By default, this trace includes several lines showing the context of each step that led to the error.\n",
    "\n",
    "### Debugging\n",
    "\n",
    "The standard Python tool for interactive debugging is pdb, the Python debugger. This debugger lets the user step through the code line by line in order to see what might be causing a more difficult error. The IPython-enhanced version of this is ipdb, the IPython debugger."
   ]
  },
  {
   "cell_type": "code",
   "execution_count": null,
   "id": "9cee3df4",
   "metadata": {},
   "outputs": [],
   "source": [
    "%debug"
   ]
  },
  {
   "cell_type": "markdown",
   "id": "ee675feb",
   "metadata": {},
   "source": [
    "The interactive debugger allows much more than this, though–we can even step up and down through the stack and explore the values of variables there\n",
    "\n",
    "### Partial list of debugging commands\n",
    "There are many more available commands for interactive debugging than we've listed here; the following table contains a description of some of the more common and useful ones:\n",
    "\n",
    "**Command\tDescription**\n",
    "\n",
    "**list**\tShow the current location in the file  \n",
    "**h(elp)**\tShow a list of commands, or find help on a specific command  \n",
    "**q(uit)**\tQuit the debugger and the program  \n",
    "**c(ontinue)**\tQuit the debugger, continue in the program  \n",
    "**n(ext)**\tGo to the next step of the program  \n",
    "**(enter)**\tRepeat the previous command  \n",
    "**p(rint)**\tPrint variables  \n",
    "**s(tep)**\tStep into a subroutine  \n",
    "**r(eturn)**\tReturn out of a subroutine"
   ]
  },
  {
   "cell_type": "markdown",
   "id": "2fa828cf",
   "metadata": {},
   "source": [
    "## General Resources\n",
    "Popular textbooks on Python programming include\n",
    "{cite}`guttag2016introduction` and {cite}`hill2016learning`.\n",
    "\n",
    "\n",
    "\n",
    "Python is either the dominant player or a major player in\n",
    "\n",
    "-   [machine learning and data science](http://scikit-learn.org/stable/)\n",
    "-   [astronomy](http://www.astropy.org/)\n",
    "-   [artificial intelligence](https://wiki.python.org/moin/PythonForArtificialIntelligence)\n",
    "-   [chemistry](http://chemlab.github.io/chemlab/)\n",
    "-   [computational biology](http://biopython.org/wiki/Main_Page)\n",
    "-   [meteorology](https://pypi.org/project/meteorology/)\n",
    "\n",
    "\n",
    "## Bibliography\n",
    "\n",
    "```{bibliography} ../_bibliography/references.bib\n",
    "```\n",
    "\n",
    "## Exercises\n",
    "\n",
    "1. Write a function to demonstrate the Monty Hall problem through\n",
    "   simulation. The function takes two arguments `ndoors` and\n",
    "   `ntrials`, representing the number of doors in the experiment and\n",
    "   the number of trails in a simulation, respectively. The function\n",
    "   should return the proportion of wins for both the switch and\n",
    "   no-switch strategy. Apply your function with 3 doors and 5 doors,\n",
    "   both with 1000 trials.\n",
    "\n",
    "1. Write a function to do a Monte Carlo approximation of $\\pi$. The\n",
    "   function takes a Monte Carlo sample size `n` as input, and returns\n",
    "   a point estimate of $\\pi$ and a 95% confidence interval. Apply your\n",
    "   function with sample size 1000, 2000, 4000, and 8000. Comment on\n",
    "   the results.\n",
    "\n",
    "1. Find the first 10-digit prime number occurring in consecutive\n",
    "   digits of $e$. This was a\n",
    "   [Google recruiting ad](http://mathworld.wolfram.com/news/2004-10-13/google/).\n",
    "\n",
    "1. Write a function to obtain the MLE of the parameters of a gamma\n",
    "   distribution with a random sample. The input is the random sample\n",
    "   vector, and the output is the MLE. For shape parameter $\\alpha$ and\n",
    "   scale parameter $\\beta$, generate a random sample of size $n$, and\n",
    "   then use your function to obtain the MLE. Conduct a simulation\n",
    "   study with $\\alpha = \\beta = 2$ for sample size \n",
    "   $n \\in \\{50, 100, 200\\}$. Do 1000 replicates and summarize your\n",
    "   results.\n",
    "\n",
    "1. Continue with the gamma MLE. Add the standard error of the MLE into\n",
    "   the output of your function. Repeat the simulation study and check\n",
    "   whether your standard errors match the empirical standard error\n",
    "   from the 1000 replicates.\n",
    "\n",
    "1. Consider a telecommunication service company. To simplify the\n",
    "   setting, suppose that the starting points of new customers are\n",
    "   uniformly distributed over time. Suppose that a customer stays\n",
    "   with the company for a duration of gamma distribution with shape\n",
    "   `alpha` and scale `sigma`. The company hires a data scientist to\n",
    "   estimate the distribution of the duration of the customer's\n",
    "   stay. The data scientist decides to include in the sample all\n",
    "   customers who are with the company at time `t`. Write a function to\n",
    "   conduct a simulation study. For each replicate, the function\n",
    "   generates `n` customers and select those that are active at time\n",
    "   `t` to form a sample; returns the mean and standard deviation of\n",
    "   the durations in the sample. Repeat the experiment 1000 times for\n",
    "   various values of `alpha`, `sigma`, `n`, and `t`. Discuss\n",
    "   your findings.\n",
    "\n",
    "1. Continue with the telecommunication service company. Suppose now\n",
    "   that the data scientists decides to include in the sample all\n",
    "   custermers that are active during a time interval from `t0` to\n",
    "   `t1`. Modify your function and carry out the simulation\n",
    "   study. Discuss your findings."
   ]
  }
 ],
 "metadata": {
  "jupytext": {
   "text_representation": {
    "extension": ".md",
    "format_name": "myst",
    "format_version": 0.13,
    "jupytext_version": "1.10.3"
   }
  },
  "kernelspec": {
   "display_name": "Python 3 (ipykernel)",
   "language": "python",
   "name": "python3"
  },
  "source_map": [
   12,
   27,
   34,
   45,
   53,
   57,
   73,
   77,
   88,
   97,
   109,
   113,
   118,
   122,
   124,
   132,
   141,
   145,
   147,
   153,
   160,
   166,
   172,
   179,
   183,
   186,
   200,
   204,
   209,
   217,
   223,
   234,
   244,
   264,
   273,
   283,
   288,
   296,
   298,
   317
  ]
 },
 "nbformat": 4,
 "nbformat_minor": 5
}