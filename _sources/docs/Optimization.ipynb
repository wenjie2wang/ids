{
 "cells": [
  {
   "cell_type": "markdown",
   "id": "b43884bf",
   "metadata": {},
   "source": [
    "# Optimization\n",
    "\n",
    "SciPy optimize provides functions for minimizing (or maximizing) objective functions, possibly subject to constraints.  \n",
    "It includes solvers for nonlinear problems (with support for both local and global optimization algorithms),  \n",
    "linear programing, constrained and nonlinear least-squares, root finding, and curve fitting.  \n",
    "\n",
    "\n",
    "## Least-squares minimization (least_squares)\n",
    "\n",
    "SciPy is capable of solving robustified bound-constrained nonlinear least-squares problems:  \n",
    "\n",
    "$$\n",
    "\\text{min}\\  \\frac{1}{2} \\sum\\limits_{1}^{m}\\rho(f_{i}(x_i;\\theta)^2)\n",
    "$$\n",
    "  \n",
    "Subject to\n",
    "\n",
    "$$\n",
    "lb\\leq \\theta \\leq ub\n",
    "$$\n",
    "\n",
    "Where $x_i$ is predictor, $f(x_i)$ is the residual,   \n",
    "$\\rho(f_{i}(x_i;\\theta)^2)$ is to reduce the influence of outliers on the solution\n",
    "\n",
    "\n",
    "### Example of solving a fitting problem with 1000 samples\n",
    "\n",
    "$f_i(x_i;\\theta)=\\frac{1}{(x_{i}\\theta+1)}-y_i, i=1,...,n$  \n",
    "where $y_i$ are measurement values.The unknown vector of parameters is $\\theta$.  \n",
    "It is recommended to compute derivative in a closed form:  \n",
    "$J_i=\\frac{-x_i}{(\\theta*x_i+1)^2}$  \n",
    "\n",
    "<!-- #endregion -->"
   ]
  },
  {
   "cell_type": "code",
   "execution_count": null,
   "id": "6b70a0ae",
   "metadata": {},
   "outputs": [],
   "source": [
    "from scipy.optimize import least_squares\n",
    "import numpy as np"
   ]
  },
  {
   "cell_type": "code",
   "execution_count": null,
   "id": "e2663823",
   "metadata": {},
   "outputs": [],
   "source": [
    "def model( theta,x):\n",
    "    return 1/(x*theta+1)"
   ]
  },
  {
   "cell_type": "code",
   "execution_count": null,
   "id": "e08b9f4a",
   "metadata": {},
   "outputs": [],
   "source": [
    "def fun( theta,x, y):\n",
    "    return y-model(x,theta)"
   ]
  },
  {
   "cell_type": "code",
   "execution_count": null,
   "id": "6f6d83ed",
   "metadata": {},
   "outputs": [],
   "source": [
    "def jac(theta,x,y):\n",
    "    J = np.empty((x.size, theta.size))\n",
    "    J[:, 0] = x/(theta[0]*x+1)**2\n",
    "    return J"
   ]
  },
  {
   "cell_type": "code",
   "execution_count": null,
   "id": "b69905b7",
   "metadata": {},
   "outputs": [],
   "source": [
    "x = np.linspace(0,50,1000)\n",
    "y = 1/(x+1)+np.random.normal(size=1000)\n",
    "theta0 = np.array([0.1])\n",
    "res = least_squares(fun, theta0, jac=jac, bounds=(0, 100),xtol=1e-10, args=(x, y), verbose=1)"
   ]
  },
  {
   "cell_type": "code",
   "execution_count": null,
   "id": "57459235",
   "metadata": {},
   "outputs": [],
   "source": [
    "res"
   ]
  },
  {
   "cell_type": "code",
   "execution_count": null,
   "id": "9f2a70b8",
   "metadata": {},
   "outputs": [],
   "source": [
    "res.x"
   ]
  },
  {
   "cell_type": "code",
   "execution_count": null,
   "id": "eefb15fa",
   "metadata": {},
   "outputs": [],
   "source": [
    "%config InlineBackend.figure_formats = ['svg']\n",
    "import matplotlib.pyplot as plt # import plot package\n",
    "x_test = np.linspace(0, 50)\n",
    "y_test = model(res.x, x_test)\n",
    "plt.plot(x, y, 'o', markersize=4, label='data')\n",
    "plt.plot(x_test, y_test, label='fitted model')\n",
    "plt.xlabel(\"x\")\n",
    "plt.ylabel(\"y\")\n",
    "plt.legend(loc='upper right')\n",
    "plt.show()"
   ]
  },
  {
   "cell_type": "markdown",
   "id": "db5344a9",
   "metadata": {},
   "source": [
    "## Univariate function minimizers (minimize_scalar)\n",
    "\n",
    "Often only the minimum of an univariate function (i.e., a function that takes a scalar as input) is needed.  \n",
    "In these circumstances, other optimization techniques have been developed that can work faster.   \n",
    "These are accessible from the minimize_scalar function, which proposes several algorithms.  \n",
    "\n",
    "### Unconstrained minimization (method='brent')\n",
    "\n",
    "There are, actually, two methods that can be used to minimize an univariate function: brent and golden,  \n",
    "but golden is included only for academic purposes and should rarely be used.    \n",
    "The brent method uses Brent’s algorithm for locating a minimum.   \n",
    "Optimally, a bracket (the bracket parameter) should be given which contains the minimum desired.   \n",
    "A bracket is a triple $(a,b,c)$such that $f(a)>f(b)<f(c)$and $a<b<c$ .   \n",
    "If this is not given, then alternatively two starting points can be chosen and a bracket will be found from these points using a simple marching algorithm.   \n",
    "If these two starting points are not provided, 0 and 1 will be used"
   ]
  },
  {
   "cell_type": "code",
   "execution_count": null,
   "id": "8440a842",
   "metadata": {},
   "outputs": [],
   "source": [
    "from scipy.optimize import minimize_scalar\n",
    "f = lambda x: (x - 2) * (x + 1)**2\n",
    "res = minimize_scalar(f, method='brent')\n",
    "print(res.x)"
   ]
  },
  {
   "cell_type": "code",
   "execution_count": null,
   "id": "2895ce33",
   "metadata": {},
   "outputs": [],
   "source": [
    "x_test = np.linspace(0, 5)\n",
    "f_test = f(x_test)\n",
    "plt.plot(x_test, f_test, label='f(x)')\n",
    "plt.plot(1,f(1),'bo',label=\"min\")\n",
    "plt.xlabel(\"x\")\n",
    "plt.ylabel(\"f\")\n",
    "plt.legend(loc='lower right')\n",
    "plt.show()"
   ]
  },
  {
   "cell_type": "markdown",
   "id": "8560ed23",
   "metadata": {},
   "source": [
    "## Unconstrained minimization of multivariate scalar functions ([minimize](https://docs.scipy.org/doc/scipy/tutorial/optimize.html#unconstrained-minimization-of-multivariate-scalar-functions-minimize))"
   ]
  },
  {
   "cell_type": "markdown",
   "id": "14d29954",
   "metadata": {},
   "source": [
    "The minimize function provides a common interface to unconstrained and constrained   \n",
    "minimization algorithms for multivariate scalar functions in scipy.optimize."
   ]
  },
  {
   "cell_type": "code",
   "execution_count": null,
   "id": "91cb3e0c",
   "metadata": {},
   "outputs": [],
   "source": [
    "import numpy as np\n",
    "from scipy.optimize import minimize"
   ]
  },
  {
   "cell_type": "code",
   "execution_count": null,
   "id": "00ba8e27",
   "metadata": {},
   "outputs": [],
   "source": [
    "def rosen(x):\n",
    "    \"\"\"The Rosenbrock function\"\"\"\n",
    "    return sum(100.0*(x[1:]-x[:-1]**2.0)**2.0 + (1-x[:-1])**2.0)"
   ]
  },
  {
   "cell_type": "code",
   "execution_count": null,
   "id": "fed949c8",
   "metadata": {},
   "outputs": [],
   "source": [
    "x0 = np.array([1.3, 0.7, 0.8, 1.9, 1.2])\n",
    "res = minimize(rosen, x0, method='nelder-mead',\n",
    "               options={'xatol': 1e-8, 'disp': True})"
   ]
  },
  {
   "cell_type": "code",
   "execution_count": null,
   "id": "fda6ec83",
   "metadata": {},
   "outputs": [],
   "source": [
    "print(res.x)"
   ]
  }
 ],
 "metadata": {
  "jupytext": {
   "text_representation": {
    "extension": ".md",
    "format_name": "myst",
    "format_version": 0.13,
    "jupytext_version": "1.13.0"
   }
  },
  "kernelspec": {
   "display_name": "Python 3 (ipykernel)",
   "language": "python",
   "name": "python3"
  },
  "source_map": [
   12,
   48,
   53,
   58,
   63,
   70,
   77,
   81,
   85,
   96,
   114,
   121,
   130,
   134,
   139,
   144,
   150,
   156
  ]
 },
 "nbformat": 4,
 "nbformat_minor": 5
}