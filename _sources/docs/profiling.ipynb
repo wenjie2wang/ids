{
 "cells": [
  {
   "cell_type": "markdown",
   "id": "e2c5c282",
   "metadata": {},
   "source": [
    "<!-- (about_py)= -->\n",
    "\n",
    "# Profiling\n",
    "\n",
    "## Motivation for Profiling\n",
    "\n",
    "Time optimization is one most common reason for timing and\n",
    "profiling. The understanding is that only some small chunk often makes\n",
    "our code heavy in terms of time taken, memory usage, etc. Finding it\n",
    "and improving or managing it can improve our resource usage.\n",
    "\n",
    "\n",
    "|         `Slow`           |           `Fast`         |\n",
    ":-------------------------:|:-------------------------:\n",
    "<img src=\"https://www.seekpng.com/png/detail/127-1274961_visit-zootopia-jpg-free-sloth-characters-in-zootopia.png\" width=\"425\"/> | <img src=\"https://freepngimg.com/thumb/the_flash/5-2-flash-free-png-image.png\" width=\"425\"/> \n",
    "\n",
    "\n",
    "It is especially important to profile code chunks to optimize them. This becomes\n",
    "more important in a production environment where resources are expensive and\n",
    "cannot be wasted. Therefore, as part of testing, one should include profiling to\n",
    "see which chunks use most resources and which chunks use less. Some coding\n",
    "contests often have a maximum time to run and these situations also\n",
    "lead to its necessity.\n",
    "\n",
    "## Resources mostly profiled\n",
    "\n",
    "The most common resources that we often optimize for projects are: \n",
    "\n",
    "- CPU time\n",
    "- Memory Usage\n",
    "\n",
    "But some other resources could also be network bandwidth usage etc. For example,\n",
    "if you wish to create a notebook that gathers stock data from one of many\n",
    "locations such as Yahoo Finance etc, and you only have a limited bandwidth, your\n",
    "choice could also depend on where you gather your data from.\n",
    "\n",
    "## Profiling CPU time\n",
    "Profiling implies that it divides the entire code file into smaller code chunks\n",
    "(*functions/lines*) in order to show the resource usage and thus existence of\n",
    "bottlenecks in our code. It is best practice to find bottlenecks by means of\n",
    "profiling rather than by intuition.\n",
    "\n",
    "Python includes the following modules that achieve profiling for CPU time:\n",
    "\n",
    "- timeit\n",
    "- cprofile\n",
    "- profile\n",
    "- lineprofile\n",
    "\n",
    "For interpretation, we use the fibonacci example shown in class:\n",
    "\n",
    "````{note}\n",
    "The profiler modules are designed to provide an execution profile for a\n",
    "given program, not for benchmarking purposes (for that, there is timeit for\n",
    "reasonably accurate results). This particularly applies to benchmarking Python\n",
    "code against C code: the profilers introduce overhead for Python code, but not\n",
    "for C-level functions, and so the C code would seem faster than any Python\n",
    "one.\n",
    "````\n",
    "\n",
    "### `timeit` function usage:"
   ]
  },
  {
   "cell_type": "code",
   "execution_count": null,
   "id": "5e42b7a3",
   "metadata": {},
   "outputs": [],
   "source": [
    "import pandas    ## !pip3 install pandas (uncomment to add)\n",
    "import timeit    ## base package\n",
    "\n",
    "### First interpretation using dynamic programming memorization\n",
    "def fib_dm_helper(n,mem):\n",
    "    if mem[n] is not None:\n",
    "        return mem[n]\n",
    "    elif (n==1 or n==2):\n",
    "        result = 1\n",
    "    else:\n",
    "        result = fib_dm_helper(n - 1, mem) + fib_dm_helper(n - 2, mem)\n",
    "    mem[n]=result\n",
    "    return result\n",
    "\n",
    "def fib_dm(n):\n",
    "    mem=[None]*(n+1)\n",
    "    return fib_dm_helper(n, mem)\n",
    "\n",
    "%timeit fib_dm(100)"
   ]
  },
  {
   "cell_type": "code",
   "execution_count": null,
   "id": "63ed1f8e",
   "metadata": {},
   "outputs": [],
   "source": [
    "### Using dynamic programming bottom up for timeit\n",
    "def fib_dbu(n):\n",
    "    mem=[None]*(n+1)\n",
    "    mem[1]=1;\n",
    "    mem[2]=1;\n",
    "    for i in range(3,n+1):\n",
    "        mem[i] = mem[i-1] + mem[i-2]\n",
    "    return mem[n]\n",
    "\t\n",
    "\n",
    "%timeit fib_dbu(100)  ## timeit application of fib_dbu"
   ]
  },
  {
   "cell_type": "markdown",
   "id": "cf25c484",
   "metadata": {},
   "source": [
    "#### Command Line Interface for `timeit`"
   ]
  },
  {
   "cell_type": "code",
   "execution_count": null,
   "id": "c012ab8d",
   "metadata": {},
   "outputs": [],
   "source": [
    "!python -m timeit -r 20 '\"-\".join(str(n) for n in range(100))'  ## r does repetition\n",
    "## The output suggests there were 20000 loops, repeated 20 times for accuracy, and "
   ]
  },
  {
   "cell_type": "markdown",
   "id": "0730c07a",
   "metadata": {},
   "source": [
    "### `cProfile`  function usage\n",
    "\n",
    "`cProfile` allows to profile functions' CPU time. A lot more info on how this can be used can also be obtained at Source: [[The python Profilers]](https://docs.python.org/3/library/profile.html).  \n",
    "\n",
    "For profiling a function with one argument, you can do the following:"
   ]
  },
  {
   "cell_type": "code",
   "execution_count": null,
   "id": "5c986096",
   "metadata": {},
   "outputs": [],
   "source": [
    "import cProfile   ## for profiling function"
   ]
  },
  {
   "cell_type": "code",
   "execution_count": null,
   "id": "211539b1",
   "metadata": {},
   "outputs": [],
   "source": [
    "cProfile.run('fib_dm(2000)')\n",
    "cProfile.run('fib_dbu(2000)')"
   ]
  },
  {
   "cell_type": "markdown",
   "id": "4b9e8706",
   "metadata": {},
   "source": [
    "**Interpretation of the above `cProfile.run()`**:\n",
    "\n",
    "- The first line indicates that 4001 calls were monitored of which 5 were\n",
    "  primitive calls (calls that are not induced via recursion).\n",
    "- \"Ordered by: standard name\" suggests usage of the last column for sorting the\n",
    "  output.\n",
    "- When there are two numbers in the first column (for example 3997/1), it means\n",
    "  that the function recursed 3997 times while it was called once.\n",
    "- (x/y) for the first column says that y is the primitive calls and x is the\n",
    "  recursive calls.\n",
    "  \n",
    "The column headings are interpreted as:\n",
    "- ncalls: for the number of calls.\n",
    "- tottime: for the total time spent in the given function (and excluding time\n",
    "  made in calls to sub-functions)\n",
    "- percall: is the quotient of tottime divided by ncalls\n",
    "- cumtime: is the cumulative time spent in this and all subfunctions (from\n",
    "  invocation till exit). This figure is accurate even for recursive functions.\n",
    "- percall: is the quotient of cumtime divided by primitive calls\n",
    "- filename: lineno(function) provides the respective data of each function"
   ]
  },
  {
   "cell_type": "markdown",
   "id": "bb512ecd",
   "metadata": {},
   "source": [
    "#### Save output for `cProfile.run()`\n",
    "```{note}\n",
    "You can also save the run output to a file by providing it as the second\n",
    "argument as follows:\n",
    "```"
   ]
  },
  {
   "cell_type": "code",
   "execution_count": null,
   "id": "f3f8b8b8",
   "metadata": {},
   "outputs": [],
   "source": [
    "cProfile.run('fib_dm(2000)', 'restats.log')"
   ]
  },
  {
   "cell_type": "markdown",
   "id": "761ffa74",
   "metadata": {},
   "source": [
    "#### Command Line for cProfile\n",
    "\n",
    "The files cProfile and profile can also be invoked using command line to profile\n",
    "another python script containing multiple functions. But keep in mind, that \n",
    "profiling an entire script will include overhead time for importing, creating a function.\n",
    "\n",
    "For Example, the code commented below can also create `restats.log` by profiling\n",
    "`myscript.py` if there exists such a python script file in the directory."
   ]
  },
  {
   "cell_type": "code",
   "execution_count": null,
   "id": "728e4370",
   "metadata": {},
   "outputs": [],
   "source": [
    "## run using bash and saved `py` file\n",
    "## !python -m cProfile -o restats.log myscript.py # myscript.py does not exist"
   ]
  },
  {
   "cell_type": "markdown",
   "id": "babe9cbc",
   "metadata": {},
   "source": [
    "#### `pstats.Stats` for output log of `cProfile()`\n",
    "\n",
    "The pstats.Stats class reads profile results from a file and formats them in\n",
    "readable manner."
   ]
  },
  {
   "cell_type": "code",
   "execution_count": null,
   "id": "f606069b",
   "metadata": {},
   "outputs": [],
   "source": [
    "# !pip install pstats   # pip install from within notebook using bash magic command\n",
    "import pstats  ## Clean reprsentation of profile\n",
    "from pstats import SortKey\n",
    "p = pstats.Stats('restats.log') ## uses the above file created with output\n",
    "p.print_stats()"
   ]
  },
  {
   "cell_type": "code",
   "execution_count": null,
   "id": "bb75e9bc",
   "metadata": {},
   "outputs": [],
   "source": [
    "### some possible print outputs\n",
    "p.strip_dirs().sort_stats(-1).print_stats(.1)\n",
    "p.sort_stats(SortKey.CUMULATIVE).print_stats(10) ## sort cumulative time spent\n",
    "p.sort_stats(SortKey.TIME).print_stats(10)  ## sort time spent within each function"
   ]
  },
  {
   "cell_type": "markdown",
   "id": "928a13f0",
   "metadata": {},
   "source": [
    "#### Deterministic Profiling of cProfile\n",
    "Deterministic profiling is meant to reflect the fact that all function call,\n",
    "function return, and exception events are monitored, and precise timings are\n",
    "made for the intervals between these events (during which time the user’s code\n",
    "is executing). In contrast, statistical profiling (which is not done by cprofile\n",
    "module) randomly samples the effective instruction pointer, and deduces where\n",
    "time is being spent. The latter technique traditionally involves less overhead\n",
    "(as the code does not need to be instrumented), but provides only relative\n",
    "indications of where time is being spent.\n",
    "\n",
    "\n",
    "#### Interpretation of cProfile\n",
    "Call count statistics can be used to identify bugs in code (surprising counts),\n",
    "and to identify possible inline-expansion points (high call counts). Internal\n",
    "time statistics can be used to identify “hot loops” that should be carefully\n",
    "optimized. Cumulative time statistics should be used to identify high level\n",
    "errors in the selection of algorithms. Note that the unusual handling of\n",
    "cumulative times in this profiler allows statistics for recursive\n",
    "implementations of algorithms to be directly compared to iterative\n",
    "implementations.\n",
    "\n",
    "### Line Profiler\n",
    "\n",
    "*line_profiler will profile the time individual lines of code take to\n",
    "execute. The profiler is implemented in C via Cython in order to reduce the\n",
    "overhead of profiling.* Also the timer unit is $10^{-6}$ or $\\mu s$"
   ]
  },
  {
   "cell_type": "code",
   "execution_count": null,
   "id": "36c6ed8b",
   "metadata": {},
   "outputs": [],
   "source": [
    "# !pip3 install line_profiler  ## install line_profiler ## check if it is installed first"
   ]
  },
  {
   "cell_type": "code",
   "execution_count": null,
   "id": "84fc74ac",
   "metadata": {},
   "outputs": [],
   "source": [
    "from line_profiler import LineProfiler\n",
    "import random\n",
    "\n",
    "def do_stuff(numbers):\n",
    "    s = sum(numbers)\n",
    "    l = [numbers[i]/43 for i in range(len(numbers))]    ## Notice different for loop\n",
    "    m = ['hello'+str(numbers[i]) for i in range(len(numbers))]\n",
    "\n",
    "numbers = [random.randint(1,100) for i in range(1000)]\n",
    "lp = LineProfiler()\n",
    "lp_wrapper = lp(do_stuff)\n",
    "lp_wrapper(numbers)\n",
    "lp.print_stats()"
   ]
  },
  {
   "cell_type": "code",
   "execution_count": null,
   "id": "5170efad",
   "metadata": {},
   "outputs": [],
   "source": [
    "## plot stats profiling by percentage\n",
    "## NEED to install gprof2dot (brew on mac)\n",
    "!gprof2dot -f pstats restats.log | dot -Tsvg -o mine.svg"
   ]
  },
  {
   "cell_type": "code",
   "execution_count": null,
   "id": "d0b00570",
   "metadata": {},
   "outputs": [],
   "source": [
    "from IPython.display import SVG\n",
    "SVG('mine.svg')\n",
    "\n",
    "# # !pip install ipyplot\n",
    "# import ipyplot\n",
    "\n",
    "# ipyplot.plot_images( ['mine.svg'], # images should be passed in as an array\n",
    "#     img_width=250,\n",
    "#     force_b64=True # this is important to be able to render the image correctly on GitHub\n",
    "# )"
   ]
  },
  {
   "cell_type": "code",
   "execution_count": null,
   "id": "914d01fc",
   "metadata": {},
   "outputs": [],
   "source": [
    "## remove files\n",
    "!rm mine.svg\n",
    "!rm restats.log"
   ]
  },
  {
   "cell_type": "markdown",
   "id": "e9cffaaf",
   "metadata": {},
   "source": [
    "## Profiling Memory\n",
    "\n",
    "- memory_profiler (open source python package)\n",
    "- guppy\n",
    "\n",
    "### Memory_Profiler"
   ]
  },
  {
   "cell_type": "code",
   "execution_count": null,
   "id": "ca4132a3",
   "metadata": {},
   "outputs": [],
   "source": [
    "# !pip3 install -U memory_profiler    ## install memory_profiler\n",
    "%load_ext memory_profiler"
   ]
  },
  {
   "cell_type": "code",
   "execution_count": null,
   "id": "52aa97a2",
   "metadata": {},
   "outputs": [],
   "source": [
    "%%writefile memscript.py\n",
    "def my_func():\n",
    "    a = [1] * (10 ** 6)\n",
    "    b = [2] * (2 * 10 ** 7)\n",
    "    del b\n",
    "    return a\n",
    "\n",
    "if __name__ == '__main__':\n",
    "    my_func()"
   ]
  },
  {
   "cell_type": "code",
   "execution_count": null,
   "id": "471f257b",
   "metadata": {},
   "outputs": [],
   "source": [
    "from memscript import my_func\n",
    "%mprun -T mprof0 -f my_func my_func()\n",
    "\n",
    "## This goes into the pdb debugger as soon as 100MB is used\n",
    "## !python3.9 -m memory_profiler --pdb-mmem=100 memscript.py  "
   ]
  },
  {
   "cell_type": "code",
   "execution_count": null,
   "id": "d7db841c",
   "metadata": {},
   "outputs": [],
   "source": [
    "print(open('mprof0', 'r').read())"
   ]
  },
  {
   "cell_type": "code",
   "execution_count": null,
   "id": "2d730530",
   "metadata": {},
   "outputs": [],
   "source": [
    "## This can be improvised by mprof\n",
    "# !pip3 install matplotlib\n",
    "import matplotlib\n",
    "import matplotlib.image as mpimg\n",
    "import matplotlib.pyplot as plt"
   ]
  },
  {
   "cell_type": "code",
   "execution_count": null,
   "id": "5e5ba4db",
   "metadata": {},
   "outputs": [],
   "source": [
    "!mprof run memscript.py\n",
    "!mprof plot -o image.svg\n",
    "\n",
    "SVG('image.svg')"
   ]
  },
  {
   "cell_type": "code",
   "execution_count": null,
   "id": "83ae26ef",
   "metadata": {},
   "outputs": [],
   "source": [
    "## Remove if not required to show.\n",
    "!rm mprof0\n",
    "!rm memscript.py\n",
    "!rm image.svg\n",
    "!rm mprofile_*"
   ]
  },
  {
   "cell_type": "markdown",
   "id": "0159cb2b",
   "metadata": {},
   "source": [
    "More information about this and even plots etc can be found at\n",
    "[Memory_Profiler](https://pypi.org/project/memory-profiler/). \n",
    "\n",
    "In case you are running mprof as a command line, then using the @profile decorator\n",
    "around a function or method and running python -m memory_profiler myscript will \n",
    "result in required work. You'll see line-by-line memory usage once your script exits."
   ]
  }
 ],
 "metadata": {
  "jupytext": {
   "text_representation": {
    "extension": ".md",
    "format_name": "myst",
    "format_version": 0.13,
    "jupytext_version": "1.10.3"
   }
  },
  "kernelspec": {
   "display_name": "Python 3 (ipykernel)",
   "language": "python",
   "name": "python3"
  },
  "source_map": [
   12,
   76,
   98,
   110,
   114,
   117,
   125,
   129,
   132,
   155,
   163,
   165,
   176,
   179,
   186,
   194,
   199,
   228,
   232,
   248,
   254,
   267,
   271,
   280,
   285,
   297,
   305,
   309,
   317,
   324,
   330
  ]
 },
 "nbformat": 4,
 "nbformat_minor": 5
}