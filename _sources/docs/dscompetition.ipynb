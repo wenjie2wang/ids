{
 "cells": [
  {
   "cell_type": "markdown",
   "id": "d9b15d68",
   "metadata": {},
   "source": [
    "# Data Science Competition\n",
    "\n",
    "\n",
    "## Exercises\n",
    "\n",
    "1. Kaggle hosts many data science competitions. This exercise is\n",
    "   designed to get familiar with Kaggle and publish your notebook on\n",
    "   Kaggle. Take the credit card fraud detection as an example:\n",
    "   <https://www.kaggle.com/mlg-ulb/creditcardfraud>.\n",
    "    + Download the dataset; put it in a folder that has the same file\n",
    "     structure as what is expected in the Kaggle notebook. Do not,\n",
    "     however, add this file to the repo (so it is local only).\n",
    "    + Do some exploratory data analysis and summarize your findings in\n",
    "     a report (with both texts and code chunks).\n",
    "    + Upload your notebook to Kaggle."
   ]
  }
 ],
 "metadata": {
  "jupytext": {
   "text_representation": {
    "extension": ".md",
    "format_name": "myst",
    "format_version": 0.13,
    "jupytext_version": "1.10.3"
   }
  },
  "kernelspec": {
   "display_name": "Python 3 (ipykernel)",
   "language": "python",
   "name": "python3"
  },
  "language_info": {
   "codemirror_mode": {
    "name": "ipython",
    "version": 3
   },
   "file_extension": ".py",
   "mimetype": "text/x-python",
   "name": "python",
   "nbconvert_exporter": "python",
   "pygments_lexer": "ipython3",
   "version": "3.8.12"
  },
  "source_map": [
   12
  ]
 },
 "nbformat": 4,
 "nbformat_minor": 5
}